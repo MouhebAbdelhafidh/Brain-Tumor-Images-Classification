{
  "cells": [
    {
      "cell_type": "code",
      "execution_count": null,
      "metadata": {
        "id": "IwuTQw8hL8y6"
      },
      "outputs": [],
      "source": [
        "Business Understanding for the Notebook\n",
        "1. Problem Statement\n",
        "Brain tumors are one of the most critical medical conditions that require early detection and accurate diagnosis. Traditional manual examination of medical images (MRI scans) is time-consuming, prone to errors, and requires expert radiologists. This project aims to develop a deep learning model to automatically detect and classify brain tumors, improving early diagnosis and patient outcomes.\n",
        "\n",
        "2. Business Objectives\n",
        "The key goals of this project are:\n",
        "✅ Improve early detection – Automate tumor identification to support radiologists.\n",
        "✅ Increase accuracy – Reduce human errors in diagnosing brain tumors.\n",
        "✅ Reduce processing time – Accelerate the diagnosis process with AI.\n",
        "✅ Assist medical professionals – Provide a tool that helps in medical decision-making.\n",
        "\n",
        "3. Stakeholders & Users\n",
        "👩‍⚕️ Doctors & Radiologists – To use the model for quick tumor detection.\n",
        "🏥 Hospitals & Clinics – To integrate AI-based tumor detection in radiology departments.\n",
        "📊 Medical Researchers – To improve deep learning techniques in medical imaging.\n",
        "\n",
        "4. Impact & Value Proposition\n",
        "💡 Improved Patient Outcomes – Faster and more accurate diagnoses lead to timely treatments.\n",
        "💰 Cost Reduction – Reduces the workload of radiologists and minimizes unnecessary tests.\n",
        "⚡ Scalability – AI models can process large volumes of MRI scans efficiently."
      ]
    },
    {
      "cell_type": "code",
      "execution_count": 1,
      "metadata": {
        "colab": {
          "base_uri": "https://localhost:8080/"
        },
        "id": "-iJrZELPLUhs",
        "outputId": "aa64ebb0-0d9f-4961-f3de-0852ea1f32f8"
      },
      "outputs": [
        {
          "output_type": "stream",
          "name": "stdout",
          "text": [
            "Requirement already satisfied: torch in /usr/local/lib/python3.11/dist-packages (2.5.1+cu124)\n",
            "Requirement already satisfied: torchvision in /usr/local/lib/python3.11/dist-packages (0.20.1+cu124)\n",
            "Requirement already satisfied: opencv-python in /usr/local/lib/python3.11/dist-packages (4.11.0.86)\n",
            "Requirement already satisfied: matplotlib in /usr/local/lib/python3.11/dist-packages (3.10.0)\n",
            "Requirement already satisfied: imutils in /usr/local/lib/python3.11/dist-packages (0.5.4)\n",
            "Requirement already satisfied: filelock in /usr/local/lib/python3.11/dist-packages (from torch) (3.17.0)\n",
            "Requirement already satisfied: typing-extensions>=4.8.0 in /usr/local/lib/python3.11/dist-packages (from torch) (4.12.2)\n",
            "Requirement already satisfied: networkx in /usr/local/lib/python3.11/dist-packages (from torch) (3.4.2)\n",
            "Requirement already satisfied: jinja2 in /usr/local/lib/python3.11/dist-packages (from torch) (3.1.5)\n",
            "Requirement already satisfied: fsspec in /usr/local/lib/python3.11/dist-packages (from torch) (2024.10.0)\n",
            "Collecting nvidia-cuda-nvrtc-cu12==12.4.127 (from torch)\n",
            "  Downloading nvidia_cuda_nvrtc_cu12-12.4.127-py3-none-manylinux2014_x86_64.whl.metadata (1.5 kB)\n",
            "Collecting nvidia-cuda-runtime-cu12==12.4.127 (from torch)\n",
            "  Downloading nvidia_cuda_runtime_cu12-12.4.127-py3-none-manylinux2014_x86_64.whl.metadata (1.5 kB)\n",
            "Collecting nvidia-cuda-cupti-cu12==12.4.127 (from torch)\n",
            "  Downloading nvidia_cuda_cupti_cu12-12.4.127-py3-none-manylinux2014_x86_64.whl.metadata (1.6 kB)\n",
            "Collecting nvidia-cudnn-cu12==9.1.0.70 (from torch)\n",
            "  Downloading nvidia_cudnn_cu12-9.1.0.70-py3-none-manylinux2014_x86_64.whl.metadata (1.6 kB)\n",
            "Collecting nvidia-cublas-cu12==12.4.5.8 (from torch)\n",
            "  Downloading nvidia_cublas_cu12-12.4.5.8-py3-none-manylinux2014_x86_64.whl.metadata (1.5 kB)\n",
            "Collecting nvidia-cufft-cu12==11.2.1.3 (from torch)\n",
            "  Downloading nvidia_cufft_cu12-11.2.1.3-py3-none-manylinux2014_x86_64.whl.metadata (1.5 kB)\n",
            "Collecting nvidia-curand-cu12==10.3.5.147 (from torch)\n",
            "  Downloading nvidia_curand_cu12-10.3.5.147-py3-none-manylinux2014_x86_64.whl.metadata (1.5 kB)\n",
            "Collecting nvidia-cusolver-cu12==11.6.1.9 (from torch)\n",
            "  Downloading nvidia_cusolver_cu12-11.6.1.9-py3-none-manylinux2014_x86_64.whl.metadata (1.6 kB)\n",
            "Collecting nvidia-cusparse-cu12==12.3.1.170 (from torch)\n",
            "  Downloading nvidia_cusparse_cu12-12.3.1.170-py3-none-manylinux2014_x86_64.whl.metadata (1.6 kB)\n",
            "Requirement already satisfied: nvidia-nccl-cu12==2.21.5 in /usr/local/lib/python3.11/dist-packages (from torch) (2.21.5)\n",
            "Requirement already satisfied: nvidia-nvtx-cu12==12.4.127 in /usr/local/lib/python3.11/dist-packages (from torch) (12.4.127)\n",
            "Collecting nvidia-nvjitlink-cu12==12.4.127 (from torch)\n",
            "  Downloading nvidia_nvjitlink_cu12-12.4.127-py3-none-manylinux2014_x86_64.whl.metadata (1.5 kB)\n",
            "Requirement already satisfied: triton==3.1.0 in /usr/local/lib/python3.11/dist-packages (from torch) (3.1.0)\n",
            "Requirement already satisfied: sympy==1.13.1 in /usr/local/lib/python3.11/dist-packages (from torch) (1.13.1)\n",
            "Requirement already satisfied: mpmath<1.4,>=1.1.0 in /usr/local/lib/python3.11/dist-packages (from sympy==1.13.1->torch) (1.3.0)\n",
            "Requirement already satisfied: numpy in /usr/local/lib/python3.11/dist-packages (from torchvision) (1.26.4)\n",
            "Requirement already satisfied: pillow!=8.3.*,>=5.3.0 in /usr/local/lib/python3.11/dist-packages (from torchvision) (11.1.0)\n",
            "Requirement already satisfied: contourpy>=1.0.1 in /usr/local/lib/python3.11/dist-packages (from matplotlib) (1.3.1)\n",
            "Requirement already satisfied: cycler>=0.10 in /usr/local/lib/python3.11/dist-packages (from matplotlib) (0.12.1)\n",
            "Requirement already satisfied: fonttools>=4.22.0 in /usr/local/lib/python3.11/dist-packages (from matplotlib) (4.56.0)\n",
            "Requirement already satisfied: kiwisolver>=1.3.1 in /usr/local/lib/python3.11/dist-packages (from matplotlib) (1.4.8)\n",
            "Requirement already satisfied: packaging>=20.0 in /usr/local/lib/python3.11/dist-packages (from matplotlib) (24.2)\n",
            "Requirement already satisfied: pyparsing>=2.3.1 in /usr/local/lib/python3.11/dist-packages (from matplotlib) (3.2.1)\n",
            "Requirement already satisfied: python-dateutil>=2.7 in /usr/local/lib/python3.11/dist-packages (from matplotlib) (2.8.2)\n",
            "Requirement already satisfied: six>=1.5 in /usr/local/lib/python3.11/dist-packages (from python-dateutil>=2.7->matplotlib) (1.17.0)\n",
            "Requirement already satisfied: MarkupSafe>=2.0 in /usr/local/lib/python3.11/dist-packages (from jinja2->torch) (3.0.2)\n",
            "Downloading nvidia_cublas_cu12-12.4.5.8-py3-none-manylinux2014_x86_64.whl (363.4 MB)\n",
            "\u001b[2K   \u001b[90m━━━━━━━━━━━━━━━━━━━━━━━━━━━━━━━━━━━━━━━━\u001b[0m \u001b[32m363.4/363.4 MB\u001b[0m \u001b[31m3.8 MB/s\u001b[0m eta \u001b[36m0:00:00\u001b[0m\n",
            "\u001b[?25hDownloading nvidia_cuda_cupti_cu12-12.4.127-py3-none-manylinux2014_x86_64.whl (13.8 MB)\n",
            "\u001b[2K   \u001b[90m━━━━━━━━━━━━━━━━━━━━━━━━━━━━━━━━━━━━━━━━\u001b[0m \u001b[32m13.8/13.8 MB\u001b[0m \u001b[31m60.0 MB/s\u001b[0m eta \u001b[36m0:00:00\u001b[0m\n",
            "\u001b[?25hDownloading nvidia_cuda_nvrtc_cu12-12.4.127-py3-none-manylinux2014_x86_64.whl (24.6 MB)\n",
            "\u001b[2K   \u001b[90m━━━━━━━━━━━━━━━━━━━━━━━━━━━━━━━━━━━━━━━━\u001b[0m \u001b[32m24.6/24.6 MB\u001b[0m \u001b[31m34.5 MB/s\u001b[0m eta \u001b[36m0:00:00\u001b[0m\n",
            "\u001b[?25hDownloading nvidia_cuda_runtime_cu12-12.4.127-py3-none-manylinux2014_x86_64.whl (883 kB)\n",
            "\u001b[2K   \u001b[90m━━━━━━━━━━━━━━━━━━━━━━━━━━━━━━━━━━━━━━━━\u001b[0m \u001b[32m883.7/883.7 kB\u001b[0m \u001b[31m45.6 MB/s\u001b[0m eta \u001b[36m0:00:00\u001b[0m\n",
            "\u001b[?25hDownloading nvidia_cudnn_cu12-9.1.0.70-py3-none-manylinux2014_x86_64.whl (664.8 MB)\n",
            "\u001b[2K   \u001b[90m━━━━━━━━━━━━━━━━━━━━━━━━━━━━━━━━━━━━━━━━\u001b[0m \u001b[32m664.8/664.8 MB\u001b[0m \u001b[31m1.3 MB/s\u001b[0m eta \u001b[36m0:00:00\u001b[0m\n",
            "\u001b[?25hDownloading nvidia_cufft_cu12-11.2.1.3-py3-none-manylinux2014_x86_64.whl (211.5 MB)\n",
            "\u001b[2K   \u001b[90m━━━━━━━━━━━━━━━━━━━━━━━━━━━━━━━━━━━━━━━━\u001b[0m \u001b[32m211.5/211.5 MB\u001b[0m \u001b[31m5.6 MB/s\u001b[0m eta \u001b[36m0:00:00\u001b[0m\n",
            "\u001b[?25hDownloading nvidia_curand_cu12-10.3.5.147-py3-none-manylinux2014_x86_64.whl (56.3 MB)\n",
            "\u001b[2K   \u001b[90m━━━━━━━━━━━━━━━━━━━━━━━━━━━━━━━━━━━━━━━━\u001b[0m \u001b[32m56.3/56.3 MB\u001b[0m \u001b[31m13.8 MB/s\u001b[0m eta \u001b[36m0:00:00\u001b[0m\n",
            "\u001b[?25hDownloading nvidia_cusolver_cu12-11.6.1.9-py3-none-manylinux2014_x86_64.whl (127.9 MB)\n",
            "\u001b[2K   \u001b[90m━━━━━━━━━━━━━━━━━━━━━━━━━━━━━━━━━━━━━━━━\u001b[0m \u001b[32m127.9/127.9 MB\u001b[0m \u001b[31m7.5 MB/s\u001b[0m eta \u001b[36m0:00:00\u001b[0m\n",
            "\u001b[?25hDownloading nvidia_cusparse_cu12-12.3.1.170-py3-none-manylinux2014_x86_64.whl (207.5 MB)\n",
            "\u001b[2K   \u001b[90m━━━━━━━━━━━━━━━━━━━━━━━━━━━━━━━━━━━━━━━━\u001b[0m \u001b[32m207.5/207.5 MB\u001b[0m \u001b[31m6.2 MB/s\u001b[0m eta \u001b[36m0:00:00\u001b[0m\n",
            "\u001b[?25hDownloading nvidia_nvjitlink_cu12-12.4.127-py3-none-manylinux2014_x86_64.whl (21.1 MB)\n",
            "\u001b[2K   \u001b[90m━━━━━━━━━━━━━━━━━━━━━━━━━━━━━━━━━━━━━━━━\u001b[0m \u001b[32m21.1/21.1 MB\u001b[0m \u001b[31m76.6 MB/s\u001b[0m eta \u001b[36m0:00:00\u001b[0m\n",
            "\u001b[?25hInstalling collected packages: nvidia-nvjitlink-cu12, nvidia-curand-cu12, nvidia-cufft-cu12, nvidia-cuda-runtime-cu12, nvidia-cuda-nvrtc-cu12, nvidia-cuda-cupti-cu12, nvidia-cublas-cu12, nvidia-cusparse-cu12, nvidia-cudnn-cu12, nvidia-cusolver-cu12\n",
            "  Attempting uninstall: nvidia-nvjitlink-cu12\n",
            "    Found existing installation: nvidia-nvjitlink-cu12 12.5.82\n",
            "    Uninstalling nvidia-nvjitlink-cu12-12.5.82:\n",
            "      Successfully uninstalled nvidia-nvjitlink-cu12-12.5.82\n",
            "  Attempting uninstall: nvidia-curand-cu12\n",
            "    Found existing installation: nvidia-curand-cu12 10.3.6.82\n",
            "    Uninstalling nvidia-curand-cu12-10.3.6.82:\n",
            "      Successfully uninstalled nvidia-curand-cu12-10.3.6.82\n",
            "  Attempting uninstall: nvidia-cufft-cu12\n",
            "    Found existing installation: nvidia-cufft-cu12 11.2.3.61\n",
            "    Uninstalling nvidia-cufft-cu12-11.2.3.61:\n",
            "      Successfully uninstalled nvidia-cufft-cu12-11.2.3.61\n",
            "  Attempting uninstall: nvidia-cuda-runtime-cu12\n",
            "    Found existing installation: nvidia-cuda-runtime-cu12 12.5.82\n",
            "    Uninstalling nvidia-cuda-runtime-cu12-12.5.82:\n",
            "      Successfully uninstalled nvidia-cuda-runtime-cu12-12.5.82\n",
            "  Attempting uninstall: nvidia-cuda-nvrtc-cu12\n",
            "    Found existing installation: nvidia-cuda-nvrtc-cu12 12.5.82\n",
            "    Uninstalling nvidia-cuda-nvrtc-cu12-12.5.82:\n",
            "      Successfully uninstalled nvidia-cuda-nvrtc-cu12-12.5.82\n",
            "  Attempting uninstall: nvidia-cuda-cupti-cu12\n",
            "    Found existing installation: nvidia-cuda-cupti-cu12 12.5.82\n",
            "    Uninstalling nvidia-cuda-cupti-cu12-12.5.82:\n",
            "      Successfully uninstalled nvidia-cuda-cupti-cu12-12.5.82\n",
            "  Attempting uninstall: nvidia-cublas-cu12\n",
            "    Found existing installation: nvidia-cublas-cu12 12.5.3.2\n",
            "    Uninstalling nvidia-cublas-cu12-12.5.3.2:\n",
            "      Successfully uninstalled nvidia-cublas-cu12-12.5.3.2\n",
            "  Attempting uninstall: nvidia-cusparse-cu12\n",
            "    Found existing installation: nvidia-cusparse-cu12 12.5.1.3\n",
            "    Uninstalling nvidia-cusparse-cu12-12.5.1.3:\n",
            "      Successfully uninstalled nvidia-cusparse-cu12-12.5.1.3\n",
            "  Attempting uninstall: nvidia-cudnn-cu12\n",
            "    Found existing installation: nvidia-cudnn-cu12 9.3.0.75\n",
            "    Uninstalling nvidia-cudnn-cu12-9.3.0.75:\n",
            "      Successfully uninstalled nvidia-cudnn-cu12-9.3.0.75\n",
            "  Attempting uninstall: nvidia-cusolver-cu12\n",
            "    Found existing installation: nvidia-cusolver-cu12 11.6.3.83\n",
            "    Uninstalling nvidia-cusolver-cu12-11.6.3.83:\n",
            "      Successfully uninstalled nvidia-cusolver-cu12-11.6.3.83\n",
            "Successfully installed nvidia-cublas-cu12-12.4.5.8 nvidia-cuda-cupti-cu12-12.4.127 nvidia-cuda-nvrtc-cu12-12.4.127 nvidia-cuda-runtime-cu12-12.4.127 nvidia-cudnn-cu12-9.1.0.70 nvidia-cufft-cu12-11.2.1.3 nvidia-curand-cu12-10.3.5.147 nvidia-cusolver-cu12-11.6.1.9 nvidia-cusparse-cu12-12.3.1.170 nvidia-nvjitlink-cu12-12.4.127\n",
            "Requirement already satisfied: timm in /usr/local/lib/python3.11/dist-packages (1.0.15)\n",
            "Requirement already satisfied: torch in /usr/local/lib/python3.11/dist-packages (2.5.1+cu124)\n",
            "Requirement already satisfied: torchvision in /usr/local/lib/python3.11/dist-packages (0.20.1+cu124)\n",
            "Requirement already satisfied: opencv-python in /usr/local/lib/python3.11/dist-packages (4.11.0.86)\n",
            "Requirement already satisfied: matplotlib in /usr/local/lib/python3.11/dist-packages (3.10.0)\n",
            "Requirement already satisfied: pyyaml in /usr/local/lib/python3.11/dist-packages (from timm) (6.0.2)\n",
            "Requirement already satisfied: huggingface_hub in /usr/local/lib/python3.11/dist-packages (from timm) (0.28.1)\n",
            "Requirement already satisfied: safetensors in /usr/local/lib/python3.11/dist-packages (from timm) (0.5.3)\n",
            "Requirement already satisfied: filelock in /usr/local/lib/python3.11/dist-packages (from torch) (3.17.0)\n",
            "Requirement already satisfied: typing-extensions>=4.8.0 in /usr/local/lib/python3.11/dist-packages (from torch) (4.12.2)\n",
            "Requirement already satisfied: networkx in /usr/local/lib/python3.11/dist-packages (from torch) (3.4.2)\n",
            "Requirement already satisfied: jinja2 in /usr/local/lib/python3.11/dist-packages (from torch) (3.1.5)\n",
            "Requirement already satisfied: fsspec in /usr/local/lib/python3.11/dist-packages (from torch) (2024.10.0)\n",
            "Requirement already satisfied: nvidia-cuda-nvrtc-cu12==12.4.127 in /usr/local/lib/python3.11/dist-packages (from torch) (12.4.127)\n",
            "Requirement already satisfied: nvidia-cuda-runtime-cu12==12.4.127 in /usr/local/lib/python3.11/dist-packages (from torch) (12.4.127)\n",
            "Requirement already satisfied: nvidia-cuda-cupti-cu12==12.4.127 in /usr/local/lib/python3.11/dist-packages (from torch) (12.4.127)\n",
            "Requirement already satisfied: nvidia-cudnn-cu12==9.1.0.70 in /usr/local/lib/python3.11/dist-packages (from torch) (9.1.0.70)\n",
            "Requirement already satisfied: nvidia-cublas-cu12==12.4.5.8 in /usr/local/lib/python3.11/dist-packages (from torch) (12.4.5.8)\n",
            "Requirement already satisfied: nvidia-cufft-cu12==11.2.1.3 in /usr/local/lib/python3.11/dist-packages (from torch) (11.2.1.3)\n",
            "Requirement already satisfied: nvidia-curand-cu12==10.3.5.147 in /usr/local/lib/python3.11/dist-packages (from torch) (10.3.5.147)\n",
            "Requirement already satisfied: nvidia-cusolver-cu12==11.6.1.9 in /usr/local/lib/python3.11/dist-packages (from torch) (11.6.1.9)\n",
            "Requirement already satisfied: nvidia-cusparse-cu12==12.3.1.170 in /usr/local/lib/python3.11/dist-packages (from torch) (12.3.1.170)\n",
            "Requirement already satisfied: nvidia-nccl-cu12==2.21.5 in /usr/local/lib/python3.11/dist-packages (from torch) (2.21.5)\n",
            "Requirement already satisfied: nvidia-nvtx-cu12==12.4.127 in /usr/local/lib/python3.11/dist-packages (from torch) (12.4.127)\n",
            "Requirement already satisfied: nvidia-nvjitlink-cu12==12.4.127 in /usr/local/lib/python3.11/dist-packages (from torch) (12.4.127)\n",
            "Requirement already satisfied: triton==3.1.0 in /usr/local/lib/python3.11/dist-packages (from torch) (3.1.0)\n",
            "Requirement already satisfied: sympy==1.13.1 in /usr/local/lib/python3.11/dist-packages (from torch) (1.13.1)\n",
            "Requirement already satisfied: mpmath<1.4,>=1.1.0 in /usr/local/lib/python3.11/dist-packages (from sympy==1.13.1->torch) (1.3.0)\n",
            "Requirement already satisfied: numpy in /usr/local/lib/python3.11/dist-packages (from torchvision) (1.26.4)\n",
            "Requirement already satisfied: pillow!=8.3.*,>=5.3.0 in /usr/local/lib/python3.11/dist-packages (from torchvision) (11.1.0)\n",
            "Requirement already satisfied: contourpy>=1.0.1 in /usr/local/lib/python3.11/dist-packages (from matplotlib) (1.3.1)\n",
            "Requirement already satisfied: cycler>=0.10 in /usr/local/lib/python3.11/dist-packages (from matplotlib) (0.12.1)\n",
            "Requirement already satisfied: fonttools>=4.22.0 in /usr/local/lib/python3.11/dist-packages (from matplotlib) (4.56.0)\n",
            "Requirement already satisfied: kiwisolver>=1.3.1 in /usr/local/lib/python3.11/dist-packages (from matplotlib) (1.4.8)\n",
            "Requirement already satisfied: packaging>=20.0 in /usr/local/lib/python3.11/dist-packages (from matplotlib) (24.2)\n",
            "Requirement already satisfied: pyparsing>=2.3.1 in /usr/local/lib/python3.11/dist-packages (from matplotlib) (3.2.1)\n",
            "Requirement already satisfied: python-dateutil>=2.7 in /usr/local/lib/python3.11/dist-packages (from matplotlib) (2.8.2)\n",
            "Requirement already satisfied: six>=1.5 in /usr/local/lib/python3.11/dist-packages (from python-dateutil>=2.7->matplotlib) (1.17.0)\n",
            "Requirement already satisfied: requests in /usr/local/lib/python3.11/dist-packages (from huggingface_hub->timm) (2.32.3)\n",
            "Requirement already satisfied: tqdm>=4.42.1 in /usr/local/lib/python3.11/dist-packages (from huggingface_hub->timm) (4.67.1)\n",
            "Requirement already satisfied: MarkupSafe>=2.0 in /usr/local/lib/python3.11/dist-packages (from jinja2->torch) (3.0.2)\n",
            "Requirement already satisfied: charset-normalizer<4,>=2 in /usr/local/lib/python3.11/dist-packages (from requests->huggingface_hub->timm) (3.4.1)\n",
            "Requirement already satisfied: idna<4,>=2.5 in /usr/local/lib/python3.11/dist-packages (from requests->huggingface_hub->timm) (3.10)\n",
            "Requirement already satisfied: urllib3<3,>=1.21.1 in /usr/local/lib/python3.11/dist-packages (from requests->huggingface_hub->timm) (2.3.0)\n",
            "Requirement already satisfied: certifi>=2017.4.17 in /usr/local/lib/python3.11/dist-packages (from requests->huggingface_hub->timm) (2025.1.31)\n"
          ]
        }
      ],
      "source": [
        "!pip install torch torchvision opencv-python matplotlib imutils\n",
        "!pip install timm torch torchvision opencv-python matplotlib\n"
      ]
    },
    {
      "cell_type": "code",
      "execution_count": 44,
      "metadata": {
        "id": "ecNdDOds0rVZ"
      },
      "outputs": [],
      "source": [
        "import torch\n",
        "import torchvision\n",
        "import torchvision.transforms as transforms\n",
        "from torchvision import datasets\n",
        "from torch.utils.data import DataLoader, random_split\n",
        "import matplotlib.pyplot as plt\n",
        "import cv2\n",
        "import os\n",
        "import numpy as np\n",
        "from PIL import Image\n",
        "import imutils\n",
        "import timm  # EfficientNet is available through the timm library\n",
        "from torchvision.datasets import ImageFolder\n",
        "from google.colab import drive\n",
        "import torch.nn as nn\n",
        "import torch.optim as optim\n",
        "from sklearn.metrics import accuracy_score\n",
        "import torchvision.models as models\n",
        "import random\n",
        "from torchvision import transforms\n",
        "from sklearn.metrics import classification_report\n",
        "from torchvision import datasets, transforms"
      ]
    },
    {
      "cell_type": "code",
      "execution_count": 25,
      "metadata": {
        "colab": {
          "base_uri": "https://localhost:8080/"
        },
        "id": "mu7m4Bdg3Bz6",
        "outputId": "8991bc73-ee6b-451b-8c0d-c9d5c777a1af"
      },
      "outputs": [
        {
          "output_type": "stream",
          "name": "stdout",
          "text": [
            "Drive already mounted at /content/drive; to attempt to forcibly remount, call drive.mount(\"/content/drive\", force_remount=True).\n"
          ]
        }
      ],
      "source": [
        "from google.colab import drive\n",
        "drive.mount('/content/drive')"
      ]
    },
    {
      "cell_type": "code",
      "execution_count": 26,
      "metadata": {
        "id": "dBipu32J3F5N"
      },
      "outputs": [],
      "source": [
        "dataset_path = \"/content/drive/MyDrive/dataset\""
      ]
    },
    {
      "cell_type": "markdown",
      "metadata": {
        "id": "mXrsk7HHO6SN"
      },
      "source": [
        "Cropping images"
      ]
    },
    {
      "cell_type": "code",
      "execution_count": 27,
      "metadata": {
        "id": "vFXh9cPH07iq"
      },
      "outputs": [],
      "source": [
        "def crop_brain_tumor(image):\n",
        "    \"\"\"\n",
        "    Automatically detects the largest contour in the image and crops the tumor region.\n",
        "    \"\"\"\n",
        "    # Convert image to grayscale\n",
        "    gray = cv2.cvtColor(image, cv2.COLOR_RGB2GRAY)\n",
        "    gray = cv2.GaussianBlur(gray, (5, 5), 0)\n",
        "\n",
        "    # Apply binary threshold\n",
        "    thresh = cv2.threshold(gray, 45, 255, cv2.THRESH_BINARY)[1]\n",
        "    thresh = cv2.erode(thresh, None, iterations=2)\n",
        "    thresh = cv2.dilate(thresh, None, iterations=2)\n",
        "\n",
        "    # Find contours\n",
        "    cnts = cv2.findContours(thresh.copy(), cv2.RETR_EXTERNAL, cv2.CHAIN_APPROX_SIMPLE)\n",
        "    cnts = imutils.grab_contours(cnts)\n",
        "\n",
        "    if len(cnts) == 0:\n",
        "        return image  # Return original if no tumor found\n",
        "\n",
        "    # Get largest contour\n",
        "    c = max(cnts, key=cv2.contourArea)\n",
        "\n",
        "    # Find extreme points\n",
        "    extLeft = tuple(c[c[:, :, 0].argmin()][0])\n",
        "    extRight = tuple(c[c[:, :, 0].argmax()][0])\n",
        "    extTop = tuple(c[c[:, :, 1].argmin()][0])\n",
        "    extBot = tuple(c[c[:, :, 1].argmax()][0])\n",
        "\n",
        "    # Apply cropping\n",
        "    ADD_PIXELS = 10  # Add padding\n",
        "    cropped_image = image[max(0, extTop[1]-ADD_PIXELS):extBot[1]+ADD_PIXELS,\n",
        "                          max(0, extLeft[0]-ADD_PIXELS):extRight[0]+ADD_PIXELS]\n",
        "\n",
        "    return cropped_image"
      ]
    },
    {
      "cell_type": "markdown",
      "metadata": {
        "id": "uEpvickkPCnX"
      },
      "source": [
        "Data augmentation"
      ]
    },
    {
      "cell_type": "code",
      "execution_count": 28,
      "metadata": {
        "id": "jIrBa-AHLwK4"
      },
      "outputs": [],
      "source": [
        "class CustomTransform:\n",
        "    def __call__(self, img):\n",
        "        # Convert PIL image to NumPy array for OpenCV processing\n",
        "        img_np = np.array(img)\n",
        "\n",
        "        # Apply brain tumor cropping\n",
        "        cropped_img = crop_brain_tumor(img_np)\n",
        "\n",
        "        # Convert back to PIL Image for torchvision transformations\n",
        "        img_pil = Image.fromarray(cropped_img)\n",
        "\n",
        "        # Apply augmentations\n",
        "        transform = transforms.Compose([\n",
        "            transforms.Resize((224, 224)),  # Resize to standard size\n",
        "            transforms.RandomResizedCrop(224, scale=(0.8, 1.0)),  # Crop randomly\n",
        "            transforms.RandomRotation(30),  # Random rotation\n",
        "            transforms.RandomHorizontalFlip(),  # Randomly flip image\n",
        "            transforms.ColorJitter(brightness=0.2, contrast=0.2),  # Color augmentation\n",
        "            transforms.ToTensor(),  # Convert to tensor\n",
        "            transforms.Normalize(mean=[0.5], std=[0.5])  # Normalize\n",
        "        ])\n",
        "\n",
        "        return transform(img_pil)"
      ]
    },
    {
      "cell_type": "markdown",
      "metadata": {
        "id": "3MUhs6r5PJAS"
      },
      "source": [
        "Importing dataset"
      ]
    },
    {
      "cell_type": "code",
      "execution_count": 29,
      "metadata": {
        "colab": {
          "base_uri": "https://localhost:8080/"
        },
        "id": "0wWzAwR308q0",
        "outputId": "1a741d6e-397e-4986-95d8-f6bca153fa03"
      },
      "outputs": [
        {
          "output_type": "stream",
          "name": "stdout",
          "text": [
            "Classes: ['glioma_tumor', 'meningioma_tumor', 'no_tumor', 'pituitary_tumor']\n"
          ]
        }
      ],
      "source": [
        "dataset = datasets.ImageFolder(root=dataset_path, transform=CustomTransform())\n",
        "# Print class names\n",
        "class_names = dataset.classes\n",
        "print(\"Classes:\", class_names)"
      ]
    },
    {
      "cell_type": "code",
      "source": [
        "# Define training transformation (with CustomTransform)\n",
        "train_transform = transforms.Compose([\n",
        "    CustomTransform()  # Apply your custom transform here!\n",
        "])\n",
        "\n",
        "# Define validation & test transformations (NO augmentations)\n",
        "val_test_transform = transforms.Compose([\n",
        "    transforms.Resize((224, 224)),  # Resize without distortion\n",
        "    transforms.ToTensor(),\n",
        "    transforms.Normalize(mean=[0.5], std=[0.5])  # Keep same normalization\n",
        "])\n",
        "\n",
        "# Split dataset into train, validation, and test sets\n",
        "train_size = int(0.7 * len(dataset))\n",
        "val_size = int(0.2 * len(dataset))\n",
        "test_size = len(dataset) - (train_size + val_size)\n",
        "\n",
        "train_ds, val_ds, test_ds = random_split(dataset, [train_size, val_size, test_size])\n",
        "\n",
        "# Apply different transforms manually\n",
        "train_ds.dataset.transform = train_transform  # Apply CustomTransform to training set\n",
        "val_ds.dataset.transform = val_test_transform  # Apply simple transforms to validation\n",
        "test_ds.dataset.transform = val_test_transform  # Apply simple transforms to test set\n",
        "\n",
        "# Create DataLoaders\n",
        "train_loader = DataLoader(train_ds, batch_size=32, shuffle=True)  # Shuffle for training\n",
        "val_loader = DataLoader(val_ds, batch_size=32, shuffle=False)  # No shuffle for validation\n",
        "test_loader = DataLoader(test_ds, batch_size=32, shuffle=False)  # No shuffle for testing\n"
      ],
      "metadata": {
        "id": "aSIsqliAM2-6"
      },
      "execution_count": 30,
      "outputs": []
    },
    {
      "cell_type": "markdown",
      "metadata": {
        "id": "uRTrJFuzPUO6"
      },
      "source": [
        "Visulization"
      ]
    },
    {
      "cell_type": "code",
      "execution_count": 31,
      "metadata": {
        "colab": {
          "base_uri": "https://localhost:8080/",
          "height": 428
        },
        "id": "lWaduQbC_qz5",
        "outputId": "2ee34e9d-4f80-4456-b89b-b019469549e3"
      },
      "outputs": [
        {
          "output_type": "display_data",
          "data": {
            "text/plain": [
              "<Figure size 640x480 with 1 Axes>"
            ],
            "image/png": "[encoded data removed]"
          },
          "metadata": {}
        }
      ],
      "source": [
        "def imshow(img, label):\n",
        "    # Unnormalize: reverse the normalization step (mean=0.5, std=0.5)\n",
        "    img = img * 0.5 + 0.5\n",
        "    npimg = img.numpy().transpose((1, 2, 0))  # Convert from Tensor to NumPy\n",
        "\n",
        "    plt.imshow(npimg)\n",
        "    plt.title(class_names[label])  # Display the class name\n",
        "    plt.axis(\"off\")\n",
        "    plt.show()\n",
        "\n",
        "# Get one batch of images from train_loader\n",
        "dataiter = iter(train_loader)\n",
        "images, labels = next(dataiter)\n",
        "\n",
        "# Display the first image in the batch\n",
        "imshow(images[0], labels[0].item())\n"
      ]
    },
    {
      "cell_type": "code",
      "execution_count": 32,
      "metadata": {
        "id": "DIWJcEvso0Wg"
      },
      "outputs": [],
      "source": [
        "# Define the CNN model in PyTorch\n",
        "class CNNModel(nn.Module):\n",
        "    def __init__(self, conv_layers, layer_size, dense_layers):\n",
        "        super(CNNModel, self).__init__()\n",
        "        self.conv_layers = conv_layers\n",
        "        self.layer_size = layer_size\n",
        "        self.dense_layers = dense_layers\n",
        "\n",
        "        # Convolutional layers\n",
        "        self.conv1 = nn.Conv2d(3, layer_size, kernel_size=3, padding=1)\n",
        "        self.relu = nn.ReLU()\n",
        "        self.maxpool = nn.MaxPool2d(2)\n",
        "\n",
        "        # Additional convolutional layers\n",
        "        self.conv2 = nn.Conv2d(layer_size, layer_size, kernel_size=3, padding=1)\n",
        "        self.conv3 = nn.Conv2d(layer_size, layer_size, kernel_size=3, padding=1)\n",
        "\n",
        "        # Calculate the size of the feature map after the convolutional layers\n",
        "        # Assuming input size of 224x224, and 2x2 pooling after each conv layer\n",
        "        self.feature_map_size = 224 // (2 ** conv_layers)  # Dividing by 2 for each pooling layer\n",
        "\n",
        "        # Flatten layer\n",
        "        self.flatten = nn.Flatten()\n",
        "\n",
        "        # Fully connected layers\n",
        "        self.fc1 = nn.Linear(layer_size * self.feature_map_size * self.feature_map_size, dense_layers * 128)  # Adjust size\n",
        "        self.fc2 = nn.Linear(dense_layers * 128, 4)  # 4 output classes\n",
        "\n",
        "        # Dropout layer\n",
        "        self.dropout = nn.Dropout(0.33)\n",
        "\n",
        "    def forward(self, x):\n",
        "        x = self.relu(self.conv1(x))\n",
        "        x = self.maxpool(x)\n",
        "\n",
        "        if self.conv_layers > 1:\n",
        "            x = self.relu(self.conv2(x))\n",
        "            x = self.maxpool(x)\n",
        "\n",
        "        if self.conv_layers > 2:\n",
        "            x = self.relu(self.conv3(x))\n",
        "            x = self.maxpool(x)\n",
        "\n",
        "        x = self.flatten(x)\n",
        "        x = self.dropout(self.relu(self.fc1(x)))\n",
        "        x = self.fc2(x)\n",
        "\n",
        "        return x"
      ]
    },
    {
      "cell_type": "code",
      "execution_count": 33,
      "metadata": {
        "id": "9tZy7ReKo0Wg"
      },
      "outputs": [],
      "source": [
        "# Function to train the model\n",
        "def train_model(model, train_loader, val_loader, device, epochs=20):\n",
        "    model.to(device)\n",
        "    criterion = nn.CrossEntropyLoss()\n",
        "    optimizer = optim.Adam(model.parameters(), lr=0.001)\n",
        "\n",
        "    best_model_wts = model.state_dict()\n",
        "    best_acc = 0.0\n",
        "\n",
        "    for epoch in range(epochs):\n",
        "        model.train()\n",
        "        running_loss = 0.0\n",
        "        correct_preds = 0\n",
        "        total_preds = 0\n",
        "\n",
        "        for inputs, labels in train_loader:\n",
        "            inputs, labels = inputs.to(device), labels.to(device)\n",
        "\n",
        "            # Zero the parameter gradients\n",
        "            optimizer.zero_grad()\n",
        "\n",
        "            # Forward pass\n",
        "            outputs = model(inputs)\n",
        "            loss = criterion(outputs, labels)\n",
        "\n",
        "            # Backward pass and optimize\n",
        "            loss.backward()\n",
        "            optimizer.step()\n",
        "\n",
        "            running_loss += loss.item()\n",
        "            _, preds = torch.max(outputs, 1)\n",
        "            correct_preds += torch.sum(preds == labels.data)\n",
        "            total_preds += labels.size(0)\n",
        "\n",
        "        epoch_loss = running_loss / len(train_loader)\n",
        "        epoch_acc = correct_preds.double() / total_preds\n",
        "        print(f\"Epoch {epoch+1}/{epochs} - Loss: {epoch_loss:.4f} - Accuracy: {epoch_acc:.4f}\")\n",
        "\n",
        "        # Save checkpoint after each epoch\n",
        "        checkpoint = {\n",
        "            'epoch': epoch + 1,\n",
        "            'model_state_dict': model.state_dict(),\n",
        "            'optimizer_state_dict': optimizer.state_dict(),\n",
        "            'loss': running_loss / len(train_loader)\n",
        "        }\n",
        "        checkpoint_path = \"/content/drive/My Drive/cnn_brain_tumor_checkpoint.pth\"\n",
        "        save_checkpoint(checkpoint, checkpoint_path)\n",
        "\n",
        "        # Evaluate the model on validation data\n",
        "        val_acc = evaluate_model(model, val_loader, device)\n",
        "        if val_acc > best_acc:\n",
        "            best_acc = val_acc\n",
        "            best_model_wts = model.state_dict()\n",
        "\n",
        "    model.load_state_dict(best_model_wts)\n",
        "    return model\n"
      ]
    },
    {
      "cell_type": "code",
      "execution_count": 38,
      "metadata": {
        "id": "2XX8oQYbo0Wg"
      },
      "outputs": [],
      "source": [
        "# Save checkpoint function\n",
        "def save_checkpoint(checkpoint, checkpoint_path):\n",
        "    torch.save(checkpoint, checkpoint_path)\n",
        "    print(f\"Checkpoint saved to {checkpoint_path}\")"
      ]
    },
    {
      "cell_type": "code",
      "execution_count": 39,
      "metadata": {
        "id": "npiCwrbAo0Wg"
      },
      "outputs": [],
      "source": [
        "# Load checkpoint function\n",
        "def load_checkpoint(checkpoint_path):\n",
        "    checkpoint = torch.load(checkpoint_path)\n",
        "    model.load_state_dict(checkpoint['model_state_dict'])\n",
        "    optimizer.load_state_dict(checkpoint['optimizer_state_dict'])\n",
        "    epoch = checkpoint['epoch']\n",
        "    loss = checkpoint['loss']\n",
        "    print(f\"Checkpoint loaded from {checkpoint_path}\")\n",
        "    print(f\"Resumed from epoch {epoch}, loss: {loss}\")\n",
        "    return model, optimizer, epoch"
      ]
    },
    {
      "cell_type": "code",
      "execution_count": 40,
      "metadata": {
        "id": "h2njOx2eo0Wg"
      },
      "outputs": [],
      "source": [
        "# Function to evaluate the model\n",
        "def evaluate_model(model, val_loader, device):\n",
        "    model.eval()\n",
        "    correct_preds = 0\n",
        "    total_preds = 0\n",
        "    y_true = []\n",
        "    y_pred = []\n",
        "\n",
        "    with torch.no_grad():\n",
        "        for inputs, labels in val_loader:\n",
        "            inputs, labels = inputs.to(device), labels.to(device)\n",
        "            outputs = model(inputs)\n",
        "\n",
        "            _, preds = torch.max(outputs, 1)\n",
        "            correct_preds += torch.sum(preds == labels.data)\n",
        "            total_preds += labels.size(0)\n",
        "\n",
        "            y_true.extend(labels.cpu().numpy())\n",
        "            y_pred.extend(preds.cpu().numpy())\n",
        "\n",
        "    accuracy = correct_preds.double() / total_preds\n",
        "    print(f\"Validation Accuracy: {accuracy:.4f}\")\n",
        "\n",
        "    # Print classification report\n",
        "    print(classification_report(y_true, y_pred))\n",
        "    return accuracy"
      ]
    },
    {
      "cell_type": "code",
      "execution_count": 41,
      "metadata": {
        "colab": {
          "base_uri": "https://localhost:8080/"
        },
        "id": "uHeLVpd3o0Wh",
        "outputId": "f08d11fb-6a68-49fa-e86a-63d8b0757134"
      },
      "outputs": [
        {
          "output_type": "stream",
          "name": "stdout",
          "text": [
            "Using device: cuda\n"
          ]
        }
      ],
      "source": [
        "# Move model to GPU if available\n",
        "device = torch.device(\"cuda\" if torch.cuda.is_available() else \"cpu\")\n",
        "print(f\"Using device: {device}\")\n",
        "conv_layers = 3\n",
        "layer_size = 64\n",
        "dense_layers = 2\n",
        "epochs = 20\n",
        "\n",
        "# Initialize model\n",
        "model = CNNModel(conv_layers=conv_layers, layer_size=layer_size, dense_layers=dense_layers)"
      ]
    },
    {
      "cell_type": "code",
      "execution_count": 42,
      "metadata": {
        "colab": {
          "base_uri": "https://localhost:8080/"
        },
        "id": "etmiWuONo0Wh",
        "outputId": "434105f3-da5a-4d27-97da-eac3eef85ea0"
      },
      "outputs": [
        {
          "output_type": "stream",
          "name": "stdout",
          "text": [
            "Epoch 1/20 - Loss: 1.0658 - Accuracy: 0.5746\n",
            "Checkpoint saved to /content/drive/My Drive/cnn_brain_tumor_checkpoint.pth\n",
            "Validation Accuracy: 0.6741\n",
            "              precision    recall  f1-score   support\n",
            "\n",
            "           0       0.68      0.69      0.69       211\n",
            "           1       0.70      0.44      0.54       199\n",
            "           2       0.59      0.66      0.62        62\n",
            "           3       0.68      0.94      0.79       160\n",
            "\n",
            "    accuracy                           0.67       632\n",
            "   macro avg       0.66      0.68      0.66       632\n",
            "weighted avg       0.68      0.67      0.66       632\n",
            "\n",
            "Epoch 2/20 - Loss: 0.6426 - Accuracy: 0.7382\n",
            "Checkpoint saved to /content/drive/My Drive/cnn_brain_tumor_checkpoint.pth\n",
            "Validation Accuracy: 0.7706\n",
            "              precision    recall  f1-score   support\n",
            "\n",
            "           0       0.75      0.78      0.76       211\n",
            "           1       0.76      0.61      0.68       199\n",
            "           2       0.60      0.90      0.72        62\n",
            "           3       0.91      0.91      0.91       160\n",
            "\n",
            "    accuracy                           0.77       632\n",
            "   macro avg       0.75      0.80      0.77       632\n",
            "weighted avg       0.78      0.77      0.77       632\n",
            "\n",
            "Epoch 3/20 - Loss: 0.4728 - Accuracy: 0.8142\n",
            "Checkpoint saved to /content/drive/My Drive/cnn_brain_tumor_checkpoint.pth\n",
            "Validation Accuracy: 0.7785\n",
            "              precision    recall  f1-score   support\n",
            "\n",
            "           0       0.76      0.78      0.77       211\n",
            "           1       0.78      0.63      0.69       199\n",
            "           2       0.66      0.81      0.72        62\n",
            "           3       0.85      0.95      0.90       160\n",
            "\n",
            "    accuracy                           0.78       632\n",
            "   macro avg       0.76      0.79      0.77       632\n",
            "weighted avg       0.78      0.78      0.77       632\n",
            "\n",
            "Epoch 4/20 - Loss: 0.2826 - Accuracy: 0.8951\n",
            "Checkpoint saved to /content/drive/My Drive/cnn_brain_tumor_checkpoint.pth\n",
            "Validation Accuracy: 0.8259\n",
            "              precision    recall  f1-score   support\n",
            "\n",
            "           0       0.74      0.89      0.81       211\n",
            "           1       0.86      0.68      0.76       199\n",
            "           2       0.81      0.82      0.82        62\n",
            "           3       0.94      0.92      0.93       160\n",
            "\n",
            "    accuracy                           0.83       632\n",
            "   macro avg       0.84      0.83      0.83       632\n",
            "weighted avg       0.83      0.83      0.82       632\n",
            "\n",
            "Epoch 5/20 - Loss: 0.2167 - Accuracy: 0.9218\n",
            "Checkpoint saved to /content/drive/My Drive/cnn_brain_tumor_checkpoint.pth\n",
            "Validation Accuracy: 0.8275\n",
            "              precision    recall  f1-score   support\n",
            "\n",
            "           0       0.92      0.69      0.79       211\n",
            "           1       0.72      0.88      0.79       199\n",
            "           2       0.84      0.76      0.80        62\n",
            "           3       0.90      0.97      0.93       160\n",
            "\n",
            "    accuracy                           0.83       632\n",
            "   macro avg       0.84      0.82      0.83       632\n",
            "weighted avg       0.84      0.83      0.83       632\n",
            "\n",
            "Epoch 6/20 - Loss: 0.1090 - Accuracy: 0.9607\n",
            "Checkpoint saved to /content/drive/My Drive/cnn_brain_tumor_checkpoint.pth\n",
            "Validation Accuracy: 0.8639\n",
            "              precision    recall  f1-score   support\n",
            "\n",
            "           0       0.89      0.83      0.86       211\n",
            "           1       0.83      0.82      0.82       199\n",
            "           2       0.75      0.84      0.79        62\n",
            "           3       0.92      0.97      0.95       160\n",
            "\n",
            "    accuracy                           0.86       632\n",
            "   macro avg       0.85      0.87      0.86       632\n",
            "weighted avg       0.86      0.86      0.86       632\n",
            "\n",
            "Epoch 7/20 - Loss: 0.0798 - Accuracy: 0.9774\n",
            "Checkpoint saved to /content/drive/My Drive/cnn_brain_tumor_checkpoint.pth\n",
            "Validation Accuracy: 0.8465\n",
            "              precision    recall  f1-score   support\n",
            "\n",
            "           0       0.82      0.87      0.84       211\n",
            "           1       0.85      0.74      0.79       199\n",
            "           2       0.74      0.79      0.77        62\n",
            "           3       0.92      0.97      0.95       160\n",
            "\n",
            "    accuracy                           0.85       632\n",
            "   macro avg       0.83      0.84      0.84       632\n",
            "weighted avg       0.85      0.85      0.85       632\n",
            "\n",
            "Epoch 8/20 - Loss: 0.0610 - Accuracy: 0.9778\n",
            "Checkpoint saved to /content/drive/My Drive/cnn_brain_tumor_checkpoint.pth\n",
            "Validation Accuracy: 0.8370\n",
            "              precision    recall  f1-score   support\n",
            "\n",
            "           0       0.93      0.72      0.81       211\n",
            "           1       0.77      0.84      0.80       199\n",
            "           2       0.69      0.85      0.76        62\n",
            "           3       0.91      0.98      0.94       160\n",
            "\n",
            "    accuracy                           0.84       632\n",
            "   macro avg       0.82      0.85      0.83       632\n",
            "weighted avg       0.85      0.84      0.84       632\n",
            "\n",
            "Epoch 9/20 - Loss: 0.0456 - Accuracy: 0.9869\n",
            "Checkpoint saved to /content/drive/My Drive/cnn_brain_tumor_checkpoint.pth\n",
            "Validation Accuracy: 0.8718\n",
            "              precision    recall  f1-score   support\n",
            "\n",
            "           0       0.85      0.87      0.86       211\n",
            "           1       0.87      0.78      0.83       199\n",
            "           2       0.83      0.84      0.83        62\n",
            "           3       0.91      0.99      0.95       160\n",
            "\n",
            "    accuracy                           0.87       632\n",
            "   macro avg       0.87      0.87      0.87       632\n",
            "weighted avg       0.87      0.87      0.87       632\n",
            "\n",
            "Epoch 10/20 - Loss: 0.0355 - Accuracy: 0.9864\n",
            "Checkpoint saved to /content/drive/My Drive/cnn_brain_tumor_checkpoint.pth\n",
            "Validation Accuracy: 0.8734\n",
            "              precision    recall  f1-score   support\n",
            "\n",
            "           0       0.91      0.82      0.86       211\n",
            "           1       0.82      0.86      0.84       199\n",
            "           2       0.80      0.84      0.82        62\n",
            "           3       0.93      0.97      0.95       160\n",
            "\n",
            "    accuracy                           0.87       632\n",
            "   macro avg       0.86      0.87      0.87       632\n",
            "weighted avg       0.88      0.87      0.87       632\n",
            "\n",
            "Epoch 11/20 - Loss: 0.0244 - Accuracy: 0.9941\n",
            "Checkpoint saved to /content/drive/My Drive/cnn_brain_tumor_checkpoint.pth\n",
            "Validation Accuracy: 0.8829\n",
            "              precision    recall  f1-score   support\n",
            "\n",
            "           0       0.90      0.87      0.88       211\n",
            "           1       0.88      0.83      0.85       199\n",
            "           2       0.77      0.85      0.81        62\n",
            "           3       0.91      0.97      0.94       160\n",
            "\n",
            "    accuracy                           0.88       632\n",
            "   macro avg       0.87      0.88      0.87       632\n",
            "weighted avg       0.88      0.88      0.88       632\n",
            "\n",
            "Epoch 12/20 - Loss: 0.0405 - Accuracy: 0.9869\n",
            "Checkpoint saved to /content/drive/My Drive/cnn_brain_tumor_checkpoint.pth\n",
            "Validation Accuracy: 0.8687\n",
            "              precision    recall  f1-score   support\n",
            "\n",
            "           0       0.91      0.82      0.86       211\n",
            "           1       0.85      0.82      0.83       199\n",
            "           2       0.71      0.89      0.79        62\n",
            "           3       0.92      0.99      0.95       160\n",
            "\n",
            "    accuracy                           0.87       632\n",
            "   macro avg       0.85      0.88      0.86       632\n",
            "weighted avg       0.87      0.87      0.87       632\n",
            "\n",
            "Epoch 13/20 - Loss: 0.0501 - Accuracy: 0.9869\n",
            "Checkpoint saved to /content/drive/My Drive/cnn_brain_tumor_checkpoint.pth\n",
            "Validation Accuracy: 0.8829\n",
            "              precision    recall  f1-score   support\n",
            "\n",
            "           0       0.87      0.88      0.88       211\n",
            "           1       0.90      0.81      0.85       199\n",
            "           2       0.79      0.84      0.81        62\n",
            "           3       0.91      0.99      0.95       160\n",
            "\n",
            "    accuracy                           0.88       632\n",
            "   macro avg       0.87      0.88      0.87       632\n",
            "weighted avg       0.88      0.88      0.88       632\n",
            "\n",
            "Epoch 14/20 - Loss: 0.0291 - Accuracy: 0.9923\n",
            "Checkpoint saved to /content/drive/My Drive/cnn_brain_tumor_checkpoint.pth\n",
            "Validation Accuracy: 0.8671\n",
            "              precision    recall  f1-score   support\n",
            "\n",
            "           0       0.88      0.83      0.86       211\n",
            "           1       0.84      0.81      0.83       199\n",
            "           2       0.80      0.85      0.83        62\n",
            "           3       0.90      0.99      0.94       160\n",
            "\n",
            "    accuracy                           0.87       632\n",
            "   macro avg       0.86      0.87      0.86       632\n",
            "weighted avg       0.87      0.87      0.87       632\n",
            "\n",
            "Epoch 15/20 - Loss: 0.0259 - Accuracy: 0.9905\n",
            "Checkpoint saved to /content/drive/My Drive/cnn_brain_tumor_checkpoint.pth\n",
            "Validation Accuracy: 0.8750\n",
            "              precision    recall  f1-score   support\n",
            "\n",
            "           0       0.91      0.85      0.88       211\n",
            "           1       0.88      0.81      0.84       199\n",
            "           2       0.70      0.90      0.79        62\n",
            "           3       0.92      0.97      0.95       160\n",
            "\n",
            "    accuracy                           0.88       632\n",
            "   macro avg       0.85      0.89      0.86       632\n",
            "weighted avg       0.88      0.88      0.88       632\n",
            "\n",
            "Epoch 16/20 - Loss: 0.0136 - Accuracy: 0.9973\n",
            "Checkpoint saved to /content/drive/My Drive/cnn_brain_tumor_checkpoint.pth\n",
            "Validation Accuracy: 0.8718\n",
            "              precision    recall  f1-score   support\n",
            "\n",
            "           0       0.92      0.82      0.86       211\n",
            "           1       0.82      0.85      0.84       199\n",
            "           2       0.79      0.84      0.81        62\n",
            "           3       0.91      0.99      0.95       160\n",
            "\n",
            "    accuracy                           0.87       632\n",
            "   macro avg       0.86      0.87      0.86       632\n",
            "weighted avg       0.87      0.87      0.87       632\n",
            "\n",
            "Epoch 17/20 - Loss: 0.0092 - Accuracy: 0.9973\n",
            "Checkpoint saved to /content/drive/My Drive/cnn_brain_tumor_checkpoint.pth\n",
            "Validation Accuracy: 0.8845\n",
            "              precision    recall  f1-score   support\n",
            "\n",
            "           0       0.90      0.85      0.88       211\n",
            "           1       0.86      0.86      0.86       199\n",
            "           2       0.74      0.90      0.81        62\n",
            "           3       0.96      0.96      0.96       160\n",
            "\n",
            "    accuracy                           0.88       632\n",
            "   macro avg       0.87      0.89      0.88       632\n",
            "weighted avg       0.89      0.88      0.89       632\n",
            "\n",
            "Epoch 18/20 - Loss: 0.0224 - Accuracy: 0.9923\n",
            "Checkpoint saved to /content/drive/My Drive/cnn_brain_tumor_checkpoint.pth\n",
            "Validation Accuracy: 0.8750\n",
            "              precision    recall  f1-score   support\n",
            "\n",
            "           0       0.91      0.82      0.87       211\n",
            "           1       0.84      0.85      0.85       199\n",
            "           2       0.77      0.87      0.82        62\n",
            "           3       0.92      0.97      0.95       160\n",
            "\n",
            "    accuracy                           0.88       632\n",
            "   macro avg       0.86      0.88      0.87       632\n",
            "weighted avg       0.88      0.88      0.87       632\n",
            "\n",
            "Epoch 19/20 - Loss: 0.0209 - Accuracy: 0.9937\n",
            "Checkpoint saved to /content/drive/My Drive/cnn_brain_tumor_checkpoint.pth\n",
            "Validation Accuracy: 0.8671\n",
            "              precision    recall  f1-score   support\n",
            "\n",
            "           0       0.90      0.82      0.86       211\n",
            "           1       0.82      0.83      0.83       199\n",
            "           2       0.79      0.85      0.82        62\n",
            "           3       0.92      0.97      0.95       160\n",
            "\n",
            "    accuracy                           0.87       632\n",
            "   macro avg       0.86      0.87      0.86       632\n",
            "weighted avg       0.87      0.87      0.87       632\n",
            "\n",
            "Epoch 20/20 - Loss: 0.0092 - Accuracy: 0.9968\n",
            "Checkpoint saved to /content/drive/My Drive/cnn_brain_tumor_checkpoint.pth\n",
            "Validation Accuracy: 0.8861\n",
            "              precision    recall  f1-score   support\n",
            "\n",
            "           0       0.89      0.89      0.89       211\n",
            "           1       0.89      0.81      0.85       199\n",
            "           2       0.77      0.87      0.82        62\n",
            "           3       0.93      0.97      0.95       160\n",
            "\n",
            "    accuracy                           0.89       632\n",
            "   macro avg       0.87      0.89      0.88       632\n",
            "weighted avg       0.89      0.89      0.89       632\n",
            "\n",
            "Validation Accuracy: 0.8861\n",
            "              precision    recall  f1-score   support\n",
            "\n",
            "           0       0.89      0.89      0.89       211\n",
            "           1       0.89      0.81      0.85       199\n",
            "           2       0.77      0.87      0.82        62\n",
            "           3       0.93      0.97      0.95       160\n",
            "\n",
            "    accuracy                           0.89       632\n",
            "   macro avg       0.87      0.89      0.88       632\n",
            "weighted avg       0.89      0.89      0.89       632\n",
            "\n"
          ]
        },
        {
          "output_type": "execute_result",
          "data": {
            "text/plain": [
              "tensor(0.8861, device='cuda:0', dtype=torch.float64)"
            ]
          },
          "metadata": {},
          "execution_count": 42
        }
      ],
      "source": [
        "# Train the model\n",
        "trained_model = train_model(model, train_loader, val_loader, device, epochs)\n",
        "\n",
        "# Evaluate the model\n",
        "evaluate_model(trained_model, val_loader, device)\n"
      ]
    },
    {
      "cell_type": "code",
      "execution_count": 43,
      "metadata": {
        "colab": {
          "base_uri": "https://localhost:8080/"
        },
        "id": "jIKCV6TXo0Wh",
        "outputId": "a0dd6b82-5a80-4817-88ad-a653c5f3866d"
      },
      "outputs": [
        {
          "output_type": "stream",
          "name": "stdout",
          "text": [
            "Test Accuracy: 0.8608\n",
            "              precision    recall  f1-score   support\n",
            "\n",
            "           0       0.81      0.90      0.86        92\n",
            "           1       0.88      0.78      0.83        96\n",
            "           2       0.78      0.74      0.76        42\n",
            "           3       0.93      0.97      0.95        86\n",
            "\n",
            "    accuracy                           0.86       316\n",
            "   macro avg       0.85      0.85      0.85       316\n",
            "weighted avg       0.86      0.86      0.86       316\n",
            "\n"
          ]
        }
      ],
      "source": [
        "# Function to test the model\n",
        "def test_model(model, test_loader, device):\n",
        "    model.eval()  # Set the model to evaluation mode\n",
        "    correct_preds = 0\n",
        "    total_preds = 0\n",
        "    y_true = []\n",
        "    y_pred = []\n",
        "\n",
        "    with torch.no_grad():  # No need to calculate gradients during testing\n",
        "        for inputs, labels in test_loader:\n",
        "            inputs, labels = inputs.to(device), labels.to(device)\n",
        "            outputs = model(inputs)\n",
        "\n",
        "            _, preds = torch.max(outputs, 1)\n",
        "            correct_preds += torch.sum(preds == labels.data)\n",
        "            total_preds += labels.size(0)\n",
        "\n",
        "            y_true.extend(labels.cpu().numpy())\n",
        "            y_pred.extend(preds.cpu().numpy())\n",
        "\n",
        "    accuracy = correct_preds.double() / total_preds\n",
        "    print(f\"Test Accuracy: {accuracy:.4f}\")\n",
        "\n",
        "    # Print classification report\n",
        "    print(classification_report(y_true, y_pred))\n",
        "    return accuracy\n",
        "\n",
        "# Assuming you already have the test_loader prepared\n",
        "\n",
        "# Test the model\n",
        "test_accuracy = test_model(trained_model, test_loader, device)"
      ]
    },
    {
      "cell_type": "code",
      "execution_count": 49,
      "metadata": {
        "colab": {
          "base_uri": "https://localhost:8080/",
          "height": 500
        },
        "id": "7nntlWOvo0Wh",
        "outputId": "f9b3e63a-8759-4efd-d303-c683c00edd73"
      },
      "outputs": [
        {
          "output_type": "stream",
          "name": "stderr",
          "text": [
            "WARNING:matplotlib.image:Clipping input data to the valid range for imshow with RGB data ([0..1] for floats or [0..255] for integers). Got range [-1.0..0.79607844].\n"
          ]
        },
        {
          "output_type": "display_data",
          "data": {
            "text/plain": [
              "<Figure size 640x480 with 1 Axes>"
            ],
            "image/png": "[encoded data removed]"
          },
          "metadata": {}
        },
        {
          "output_type": "stream",
          "name": "stdout",
          "text": [
            "Predicted Label: glioma_tumor\n",
            "Actual Label: glioma_tumor\n"
          ]
        }
      ],
      "source": [
        "def test_random_image(model, test_loader, device, class_names):\n",
        "    # Set the model to evaluation mode\n",
        "    model.eval()\n",
        "\n",
        "    # Get a random sample from the test_loader\n",
        "    dataiter = iter(test_loader)\n",
        "    images, labels = next(dataiter)\n",
        "\n",
        "    # Select a random image and its corresponding label\n",
        "    idx = random.randint(0, len(images) - 1)\n",
        "    img = images[idx].unsqueeze(0).to(device)  # Add batch dimension and move to device\n",
        "    true_label = labels[idx].item()\n",
        "\n",
        "    # Make prediction\n",
        "    with torch.no_grad():  # Disable gradient calculation\n",
        "        output = model(img)\n",
        "        _, predicted = torch.max(output, 1)\n",
        "\n",
        "    predicted_label = predicted.item()\n",
        "\n",
        "    # Convert the image back to a format for display\n",
        "    img = img.squeeze().cpu().numpy().transpose(1, 2, 0)  # Convert to HWC format\n",
        "\n",
        "    # Display the image along with predicted and actual labels\n",
        "    plt.imshow(img)\n",
        "    plt.title(f\"Predicted: {class_names[predicted_label]} | Actual: {class_names[true_label]}\")\n",
        "    plt.axis('off')\n",
        "    plt.show()\n",
        "\n",
        "    # Print the actual and predicted labels\n",
        "    print(f\"Predicted Label: {class_names[predicted_label]}\")\n",
        "    print(f\"Actual Label: {class_names[true_label]}\")\n",
        "\n",
        "# Call the function to test on a random image\n",
        "test_random_image(trained_model, test_loader, device, class_names)"
      ]
    },
    {
      "cell_type": "markdown",
      "metadata": {
        "id": "EWuwo2wtfi_U"
      },
      "source": [
        "## **1.SWIN :**"
      ]
    },
    {
      "cell_type": "code",
      "execution_count": 50,
      "metadata": {
        "colab": {
          "base_uri": "https://localhost:8080/",
          "height": 555,
          "referenced_widgets": [
            "9cb057d2f30b48d2be39150b038d6f55",
            "54e97b2b4f3d474abd98d1b49cd6b2a2",
            "b4320d07b99d454a8f48a27fa96e49cc",
            "d4ddfb11549b4d03a9d4b6b7d53d196f",
            "6ee8cc95c28b4015941fa4be93afed8b",
            "bac1792e49514c7e999eef31e0a52c76",
            "92c569d9f5344c6f92976ff9830c154c",
            "49e734a2521a4599bc28380af94fac96",
            "39c3ccb2b5454a1fa2ba383ed96b06bc",
            "acde440efa7e40789d16f7f64ba08a81",
            "fd8b597bfc2e4e6488312ff1e1de4c92"
          ]
        },
        "id": "VyBVpvzpmdg0",
        "outputId": "926d99e2-8ff1-46b7-8f90-8093096cb0db"
      },
      "outputs": [
        {
          "output_type": "stream",
          "name": "stderr",
          "text": [
            "/usr/local/lib/python3.11/dist-packages/huggingface_hub/utils/_auth.py:94: UserWarning: \n",
            "The secret `HF_TOKEN` does not exist in your Colab secrets.\n",
            "To authenticate with the Hugging Face Hub, create a token in your settings tab (https://huggingface.co/settings/tokens), set it as secret in your Google Colab and restart your session.\n",
            "You will be able to reuse this secret in all of your notebooks.\n",
            "Please note that authentication is recommended but still optional to access public models or datasets.\n",
            "  warnings.warn(\n"
          ]
        },
        {
          "output_type": "display_data",
          "data": {
            "text/plain": [
              "model.safetensors:   0%|          | 0.00/114M [00:00<?, ?B/s]"
            ],
            "application/vnd.jupyter.widget-view+json": {
              "version_major": 2,
              "version_minor": 0,
              "model_id": "9cb057d2f30b48d2be39150b038d6f55"
            }
          },
          "metadata": {}
        },
        {
          "output_type": "stream",
          "name": "stdout",
          "text": [
            "Époque 1/20 - Perte: 1.3361\n",
            "Époque 2/20 - Perte: 1.1792\n",
            "Époque 3/20 - Perte: 1.0834\n",
            "Époque 4/20 - Perte: 1.0014\n",
            "Époque 5/20 - Perte: 0.9427\n",
            "Époque 6/20 - Perte: 0.8847\n",
            "Époque 7/20 - Perte: 0.8458\n",
            "Époque 8/20 - Perte: 0.8030\n",
            "Époque 9/20 - Perte: 0.7770\n",
            "Époque 10/20 - Perte: 0.7423\n",
            "Époque 11/20 - Perte: 0.7225\n",
            "Époque 12/20 - Perte: 0.7084\n",
            "Époque 13/20 - Perte: 0.6900\n",
            "Époque 14/20 - Perte: 0.6743\n",
            "Époque 15/20 - Perte: 0.6561\n",
            "Époque 16/20 - Perte: 0.6431\n",
            "Époque 17/20 - Perte: 0.6234\n",
            "Époque 18/20 - Perte: 0.6115\n",
            "Époque 19/20 - Perte: 0.6028\n",
            "Époque 20/20 - Perte: 0.5955\n",
            "Entraînement terminé !\n",
            "Accurancy: 79.59%\n"
          ]
        }
      ],
      "source": [
        "# Charger Swin-Tiny pré-entraîné\n",
        "model = timm.create_model('swin_tiny_patch4_window7_224', pretrained=True, num_classes=len(dataset.classes))\n",
        "\n",
        "# Définir l'appareil (GPU si disponible)\n",
        "device = torch.device(\"cuda\" if torch.cuda.is_available() else \"cpu\")\n",
        "model.to(device)\n",
        "\n",
        "# Freeze the early layers and fine-tune the last few layers (classifier head)\n",
        "for param in model.parameters():\n",
        "    param.requires_grad = False  # Freeze all layers\n",
        "\n",
        "# Unfreeze the classifier layer (head)\n",
        "for param in model.head.parameters():\n",
        "    param.requires_grad = True\n",
        "\n",
        "# Define the loss function and optimizer\n",
        "criterion = nn.CrossEntropyLoss()\n",
        "optimizer = optim.Adam(model.parameters(), lr=0.0001)\n",
        "\n",
        "num_epochs = 20\n",
        "\n",
        "# Training loop\n",
        "for epoch in range(num_epochs):\n",
        "    model.train()\n",
        "    running_loss = 0.0\n",
        "\n",
        "    for images, labels in train_loader:\n",
        "        images, labels = images.to(device), labels.to(device)\n",
        "\n",
        "        optimizer.zero_grad()\n",
        "        outputs = model(images)\n",
        "        loss = criterion(outputs, labels)\n",
        "        loss.backward()\n",
        "        optimizer.step()\n",
        "\n",
        "        running_loss += loss.item()\n",
        "\n",
        "    print(f\"Époque {epoch+1}/{num_epochs} - Perte: {running_loss/len(train_loader):.4f}\")\n",
        "\n",
        "print(\"Entraînement terminé !\")\n",
        "\n",
        "# Evaluation on the validation set\n",
        "model.eval()\n",
        "all_preds, all_labels = [], []\n",
        "\n",
        "with torch.no_grad():\n",
        "    for images, labels in val_loader:\n",
        "        images, labels = images.to(device), labels.to(device)\n",
        "        outputs = model(images)\n",
        "        _, preds = torch.max(outputs, 1)\n",
        "\n",
        "        all_preds.extend(preds.cpu().numpy())\n",
        "        all_labels.extend(labels.cpu().numpy())\n",
        "\n",
        "accuracy = accuracy_score(all_labels, all_preds)\n",
        "print(f\"Accurancy: {accuracy * 100:.2f}%\")\n"
      ]
    },
    {
      "cell_type": "markdown",
      "metadata": {
        "id": "02KuzOiRuwWy"
      },
      "source": [
        "# a.Test Model :"
      ]
    },
    {
      "cell_type": "code",
      "execution_count": 51,
      "metadata": {
        "colab": {
          "base_uri": "https://localhost:8080/"
        },
        "id": "C_tkiE-Y5kCF",
        "outputId": "f0608df3-6889-4ecd-90fd-7d2a94a2661d"
      },
      "outputs": [
        {
          "output_type": "stream",
          "name": "stdout",
          "text": [
            "Test Accuracy: 0.8165\n",
            "                  precision    recall  f1-score   support\n",
            "\n",
            "    glioma_tumor       0.83      0.80      0.82        92\n",
            "meningioma_tumor       0.75      0.75      0.75        96\n",
            "        no_tumor       0.94      0.79      0.86        42\n",
            " pituitary_tumor       0.82      0.92      0.87        86\n",
            "\n",
            "        accuracy                           0.82       316\n",
            "       macro avg       0.84      0.81      0.82       316\n",
            "    weighted avg       0.82      0.82      0.82       316\n",
            "\n"
          ]
        }
      ],
      "source": [
        "# Function to test the model\n",
        "def test_model(model, test_loader, device, class_names):\n",
        "    model.eval()  # Set the model to evaluation mode\n",
        "    correct_preds = 0\n",
        "    total_preds = 0\n",
        "    y_true = []\n",
        "    y_pred = []\n",
        "\n",
        "    with torch.no_grad():  # No need to calculate gradients during testing\n",
        "        for inputs, labels in test_loader:\n",
        "            inputs, labels = inputs.to(device), labels.to(device)\n",
        "            outputs = model(inputs)\n",
        "\n",
        "            _, preds = torch.max(outputs, 1)\n",
        "            correct_preds += torch.sum(preds == labels.data)\n",
        "            total_preds += labels.size(0)\n",
        "\n",
        "            y_true.extend(labels.cpu().numpy())\n",
        "            y_pred.extend(preds.cpu().numpy())\n",
        "\n",
        "    accuracy = correct_preds.double() / total_preds\n",
        "    print(f\"Test Accuracy: {accuracy:.4f}\")\n",
        "\n",
        "    # Print classification report\n",
        "    print(classification_report(y_true, y_pred, target_names=class_names))\n",
        "    return accuracy\n",
        "\n",
        "\n",
        "\n",
        "# Test the model (using your trained model)\n",
        "test_accuracy = test_model(model, test_loader, device, class_names)\n"
      ]
    },
    {
      "cell_type": "markdown",
      "metadata": {
        "id": "-2yJYbUUvM4g"
      },
      "source": [
        "# b.Test Random Image"
      ]
    },
    {
      "cell_type": "code",
      "execution_count": 52,
      "metadata": {
        "colab": {
          "base_uri": "https://localhost:8080/",
          "height": 463
        },
        "id": "NaWPtdmq5CBC",
        "outputId": "5d43ba49-e077-4dc1-ae22-2a1dfdf48307"
      },
      "outputs": [
        {
          "output_type": "display_data",
          "data": {
            "text/plain": [
              "<Figure size 640x480 with 1 Axes>"
            ],
            "image/png": "[encoded data removed]"
          },
          "metadata": {}
        },
        {
          "output_type": "stream",
          "name": "stdout",
          "text": [
            "Predicted Label: no_tumor\n",
            "Actual Label: no_tumor\n"
          ]
        }
      ],
      "source": [
        "def test_random_image(model, test_loader, device, class_names):\n",
        "    # Set the model to evaluation mode\n",
        "    model.eval()\n",
        "\n",
        "    # Get a random sample from the test_loader\n",
        "    dataiter = iter(test_loader)\n",
        "    images, labels = next(dataiter)\n",
        "\n",
        "    # Select a random image and its corresponding label\n",
        "    idx = random.randint(0, len(images) - 1)\n",
        "    img = images[idx].unsqueeze(0).to(device)  # Add batch dimension and move to device\n",
        "    true_label = labels[idx].item()\n",
        "\n",
        "    # Make prediction\n",
        "    with torch.no_grad():  # Disable gradient calculation\n",
        "        output = model(img)\n",
        "        _, predicted = torch.max(output, 1)\n",
        "\n",
        "    predicted_label = predicted.item()\n",
        "\n",
        "    # Convert the image back to a format for display\n",
        "    img = img.squeeze().cpu().numpy().transpose(1, 2, 0)  # Convert to HWC format\n",
        "\n",
        "    # Normalize the image to match the Swin-Tiny's input normalization\n",
        "    mean = np.array([0.485, 0.456, 0.406])\n",
        "    std = np.array([0.229, 0.224, 0.225])\n",
        "    img = std * img + mean  # Denormalize\n",
        "    img = np.clip(img, 0, 1)  # Ensure the image is in the correct range\n",
        "\n",
        "    # Display the image along with predicted and actual labels\n",
        "    plt.imshow(img)\n",
        "    plt.title(f\"Predicted: {class_names[predicted_label]} | Actual: {class_names[true_label]}\")\n",
        "    plt.axis('off')\n",
        "    plt.show()\n",
        "\n",
        "    # Print the actual and predicted labels\n",
        "    print(f\"Predicted Label: {class_names[predicted_label]}\")\n",
        "    print(f\"Actual Label: {class_names[true_label]}\")\n",
        "\n",
        "# Call the function to test on a random image\n",
        "test_random_image(model, test_loader, device, class_names)\n"
      ]
    },
    {
      "cell_type": "markdown",
      "metadata": {
        "id": "kSTDEGijwcyw"
      },
      "source": [
        "# **2.ResNeT**"
      ]
    },
    {
      "cell_type": "code",
      "execution_count": 53,
      "metadata": {
        "colab": {
          "base_uri": "https://localhost:8080/"
        },
        "id": "X3dexlzRwHpQ",
        "outputId": "dcce4c17-afb7-4d5a-ed6a-8dd1b8658db5"
      },
      "outputs": [
        {
          "output_type": "stream",
          "name": "stderr",
          "text": [
            "/usr/local/lib/python3.11/dist-packages/torchvision/models/_utils.py:208: UserWarning: The parameter 'pretrained' is deprecated since 0.13 and may be removed in the future, please use 'weights' instead.\n",
            "  warnings.warn(\n",
            "/usr/local/lib/python3.11/dist-packages/torchvision/models/_utils.py:223: UserWarning: Arguments other than a weight enum or `None` for 'weights' are deprecated since 0.13 and may be removed in the future. The current behavior is equivalent to passing `weights=ResNet18_Weights.IMAGENET1K_V1`. You can also use `weights=ResNet18_Weights.DEFAULT` to get the most up-to-date weights.\n",
            "  warnings.warn(msg)\n",
            "Downloading: \"https://download.pytorch.org/models/resnet18-f37072fd.pth\" to /root/.cache/torch/hub/checkpoints/resnet18-f37072fd.pth\n",
            "100%|██████████| 44.7M/44.7M [00:00<00:00, 58.2MB/s]\n"
          ]
        },
        {
          "output_type": "stream",
          "name": "stdout",
          "text": [
            "Epoch 1/20 - Loss: 1.4049\n",
            "Epoch 2/20 - Loss: 1.2336\n",
            "Epoch 3/20 - Loss: 1.1298\n",
            "Epoch 4/20 - Loss: 1.0412\n",
            "Epoch 5/20 - Loss: 0.9691\n",
            "Epoch 6/20 - Loss: 0.9168\n",
            "Epoch 7/20 - Loss: 0.8718\n",
            "Epoch 8/20 - Loss: 0.8232\n",
            "Epoch 9/20 - Loss: 0.7928\n",
            "Epoch 10/20 - Loss: 0.7699\n",
            "Epoch 11/20 - Loss: 0.7323\n",
            "Epoch 12/20 - Loss: 0.7173\n",
            "Epoch 13/20 - Loss: 0.7059\n",
            "Epoch 14/20 - Loss: 0.6738\n",
            "Epoch 15/20 - Loss: 0.6737\n",
            "Epoch 16/20 - Loss: 0.6508\n",
            "Epoch 17/20 - Loss: 0.6587\n",
            "Epoch 18/20 - Loss: 0.6225\n",
            "Epoch 19/20 - Loss: 0.6208\n",
            "Epoch 20/20 - Loss: 0.6111\n",
            "Training complete!\n",
            "Accuracy: 78.16%\n"
          ]
        }
      ],
      "source": [
        "# Load pre-trained ResNet18 model\n",
        "model = models.resnet18(pretrained=True)\n",
        "\n",
        "# Modify the final fully connected layer for your number of classes\n",
        "num_ftrs = model.fc.in_features\n",
        "model.fc = nn.Linear(num_ftrs, len(dataset.classes))\n",
        "\n",
        "# Set device to CUDA if available\n",
        "device = torch.device(\"cuda\" if torch.cuda.is_available() else \"cpu\")\n",
        "model.to(device)\n",
        "\n",
        "# Freeze all layers except the final one (fc layer)\n",
        "for param in model.parameters():\n",
        "    param.requires_grad = False  # Freeze all layers\n",
        "\n",
        "# Unfreeze the final classifier layer\n",
        "for param in model.fc.parameters():\n",
        "    param.requires_grad = True  # Unfreeze the classifier layer\n",
        "\n",
        "# Define loss and optimizer\n",
        "criterion = nn.CrossEntropyLoss()\n",
        "\n",
        "# Optimizer should only optimize the parameters of the final layer\n",
        "optimizer = optim.Adam(model.fc.parameters(), lr=0.0001)\n",
        "\n",
        "# Training loop\n",
        "num_epochs = 20\n",
        "for epoch in range(num_epochs):\n",
        "    model.train()\n",
        "    running_loss = 0.0\n",
        "    for images, labels in train_loader:\n",
        "        images, labels = images.to(device), labels.to(device)\n",
        "        optimizer.zero_grad()  # Zero the gradients\n",
        "\n",
        "        # Forward pass to get predictions\n",
        "        outputs = model(images)\n",
        "        loss = criterion(outputs, labels)\n",
        "\n",
        "        # Backward pass to calculate gradients\n",
        "        loss.backward()\n",
        "\n",
        "        # Step the optimizer to update the weights\n",
        "        optimizer.step()\n",
        "\n",
        "        running_loss += loss.item()\n",
        "\n",
        "    print(f\"Epoch {epoch+1}/{num_epochs} - Loss: {running_loss/len(train_loader):.4f}\")\n",
        "\n",
        "print(\"Training complete!\")\n",
        "\n",
        "# Evaluation\n",
        "model.eval()\n",
        "all_preds, all_labels = [], []\n",
        "\n",
        "with torch.no_grad():\n",
        "    for images, labels in val_loader:\n",
        "        images, labels = images.to(device), labels.to(device)\n",
        "        outputs = model(images)\n",
        "        _, preds = torch.max(outputs, 1)\n",
        "        all_preds.extend(preds.cpu().numpy())\n",
        "        all_labels.extend(labels.cpu().numpy())\n",
        "\n",
        "accuracy = accuracy_score(all_labels, all_preds)\n",
        "print(f\"Accuracy: {accuracy * 100:.2f}%\")\n"
      ]
    },
    {
      "cell_type": "markdown",
      "metadata": {
        "id": "W5CWBppWvpZ_"
      },
      "source": [
        "# a.Test Model :"
      ]
    },
    {
      "cell_type": "code",
      "execution_count": 59,
      "metadata": {
        "colab": {
          "base_uri": "https://localhost:8080/"
        },
        "id": "dCFGYN4j6atA",
        "outputId": "57b4cdfe-eb53-4d6c-a3d3-010bae84e9e6"
      },
      "outputs": [
        {
          "output_type": "stream",
          "name": "stdout",
          "text": [
            "Test Accuracy: 0.7753\n",
            "                  precision    recall  f1-score   support\n",
            "\n",
            "    glioma_tumor       0.83      0.74      0.78        92\n",
            "meningioma_tumor       0.72      0.68      0.70        96\n",
            "        no_tumor       0.84      0.74      0.78        42\n",
            " pituitary_tumor       0.76      0.94      0.84        86\n",
            "\n",
            "        accuracy                           0.78       316\n",
            "       macro avg       0.79      0.77      0.78       316\n",
            "    weighted avg       0.78      0.78      0.77       316\n",
            "\n"
          ]
        }
      ],
      "source": [
        "# Function to test the model\n",
        "def test_model(model, test_loader, device, class_names):\n",
        "    model.eval()  # Set the model to evaluation mode\n",
        "    correct_preds = 0\n",
        "    total_preds = 0\n",
        "    y_true = []\n",
        "    y_pred = []\n",
        "\n",
        "    with torch.no_grad():  # No need to calculate gradients during testing\n",
        "        for inputs, labels in test_loader:\n",
        "            inputs, labels = inputs.to(device), labels.to(device)\n",
        "            outputs = model(inputs)\n",
        "\n",
        "            _, preds = torch.max(outputs, 1)\n",
        "            correct_preds += torch.sum(preds == labels.data)\n",
        "            total_preds += labels.size(0)\n",
        "\n",
        "            y_true.extend(labels.cpu().numpy())\n",
        "            y_pred.extend(preds.cpu().numpy())\n",
        "\n",
        "    accuracy = correct_preds.double() / total_preds\n",
        "    print(f\"Test Accuracy: {accuracy:.4f}\")\n",
        "\n",
        "    # Print classification report\n",
        "    print(classification_report(y_true, y_pred, target_names=class_names))\n",
        "    return accuracy\n",
        "\n",
        "\n",
        "\n",
        "# Test the ResNet18 model\n",
        "test_accuracy = test_model(model, test_loader, device, class_names)\n"
      ]
    },
    {
      "cell_type": "markdown",
      "metadata": {
        "id": "4sjs6KuAv6JJ"
      },
      "source": [
        "# b.Test Random Image"
      ]
    },
    {
      "cell_type": "code",
      "execution_count": 57,
      "metadata": {
        "colab": {
          "base_uri": "https://localhost:8080/",
          "height": 500
        },
        "id": "6_KMErcX6iSg",
        "outputId": "45113365-99b4-4257-ec97-801e0c90ec23"
      },
      "outputs": [
        {
          "output_type": "stream",
          "name": "stderr",
          "text": [
            "WARNING:matplotlib.image:Clipping input data to the valid range for imshow with RGB data ([0..1] for floats or [0..255] for integers). Got range [-1.0..0.8666667].\n"
          ]
        },
        {
          "output_type": "display_data",
          "data": {
            "text/plain": [
              "<Figure size 640x480 with 1 Axes>"
            ],
            "image/png": "[encoded data removed]"
          },
          "metadata": {}
        },
        {
          "output_type": "stream",
          "name": "stdout",
          "text": [
            "Predicted Label: meningioma_tumor\n",
            "Actual Label: meningioma_tumor\n"
          ]
        }
      ],
      "source": [
        "# Function to test a random image\n",
        "def test_random_image(model, test_loader, device, class_names):\n",
        "    model.eval()  # Set the model to evaluation mode\n",
        "\n",
        "    # Get a random sample from the test_loader\n",
        "    dataiter = iter(test_loader)\n",
        "    images, labels = next(dataiter)\n",
        "\n",
        "    # Select a random image and its corresponding label\n",
        "    idx = random.randint(0, len(images) - 1)\n",
        "    img = images[idx].unsqueeze(0).to(device)  # Add batch dimension and move to device\n",
        "    true_label = labels[idx].item()\n",
        "\n",
        "    # Make prediction\n",
        "    with torch.no_grad():  # Disable gradient calculation\n",
        "        output = model(img)\n",
        "        _, predicted = torch.max(output, 1)\n",
        "\n",
        "    predicted_label = predicted.item()\n",
        "\n",
        "    # Convert the image back to a format for display\n",
        "    img = img.squeeze().cpu().numpy().transpose(1, 2, 0)  # Convert to HWC format\n",
        "\n",
        "    # Display the image along with predicted and actual labels\n",
        "    plt.imshow(img)\n",
        "    plt.title(f\"Predicted: {class_names[predicted_label]} | Actual: {class_names[true_label]}\")\n",
        "    plt.axis('off')\n",
        "    plt.show()\n",
        "\n",
        "    # Print the actual and predicted labels\n",
        "    print(f\"Predicted Label: {class_names[predicted_label]}\")\n",
        "    print(f\"Actual Label: {class_names[true_label]}\")\n",
        "\n",
        "# Call the function to test on a random image\n",
        "test_random_image(model, test_loader, device, class_names)\n"
      ]
    },
    {
      "cell_type": "markdown",
      "metadata": {
        "id": "wrAsnBC5xh0M"
      },
      "source": [
        "# **3.VGG16**"
      ]
    },
    {
      "cell_type": "code",
      "execution_count": 58,
      "metadata": {
        "colab": {
          "base_uri": "https://localhost:8080/"
        },
        "id": "KHjDur2QxnHq",
        "outputId": "dc900b2c-099a-40f7-b427-20a8e5790cf7"
      },
      "outputs": [
        {
          "output_type": "stream",
          "name": "stderr",
          "text": [
            "/usr/local/lib/python3.11/dist-packages/torchvision/models/_utils.py:208: UserWarning: The parameter 'pretrained' is deprecated since 0.13 and may be removed in the future, please use 'weights' instead.\n",
            "  warnings.warn(\n",
            "/usr/local/lib/python3.11/dist-packages/torchvision/models/_utils.py:223: UserWarning: Arguments other than a weight enum or `None` for 'weights' are deprecated since 0.13 and may be removed in the future. The current behavior is equivalent to passing `weights=VGG16_Weights.IMAGENET1K_V1`. You can also use `weights=VGG16_Weights.DEFAULT` to get the most up-to-date weights.\n",
            "  warnings.warn(msg)\n",
            "Downloading: \"https://download.pytorch.org/models/vgg16-397923af.pth\" to /root/.cache/torch/hub/checkpoints/vgg16-397923af.pth\n",
            "100%|██████████| 528M/528M [00:03<00:00, 174MB/s]\n"
          ]
        },
        {
          "output_type": "stream",
          "name": "stdout",
          "text": [
            "Epoch 1/20 - Loss: 1.1944\n",
            "Epoch 2/20 - Loss: 0.9592\n",
            "Epoch 3/20 - Loss: 0.8546\n",
            "Epoch 4/20 - Loss: 0.8061\n",
            "Epoch 5/20 - Loss: 0.7452\n",
            "Epoch 6/20 - Loss: 0.7312\n",
            "Epoch 7/20 - Loss: 0.6832\n",
            "Epoch 8/20 - Loss: 0.6839\n",
            "Epoch 9/20 - Loss: 0.6584\n",
            "Epoch 10/20 - Loss: 0.6490\n",
            "Epoch 11/20 - Loss: 0.6318\n",
            "Epoch 12/20 - Loss: 0.6139\n",
            "Epoch 13/20 - Loss: 0.6221\n",
            "Epoch 14/20 - Loss: 0.5992\n",
            "Epoch 15/20 - Loss: 0.5936\n",
            "Epoch 16/20 - Loss: 0.5805\n",
            "Epoch 17/20 - Loss: 0.5751\n",
            "Epoch 18/20 - Loss: 0.5782\n",
            "Epoch 19/20 - Loss: 0.5606\n",
            "Epoch 20/20 - Loss: 0.5652\n",
            "Training complete!\n",
            "Accuracy: 79.11%\n"
          ]
        }
      ],
      "source": [
        "\n",
        "# Load pre-trained VGG16 model\n",
        "model = models.vgg16(pretrained=True)\n",
        "\n",
        "# Modify the final fully connected layer for your number of classes\n",
        "num_ftrs = model.classifier[6].in_features\n",
        "model.classifier[6] = nn.Linear(num_ftrs, len(dataset.classes))\n",
        "\n",
        "# Set device to CUDA if available\n",
        "device = torch.device(\"cuda\" if torch.cuda.is_available() else \"cpu\")\n",
        "model.to(device)\n",
        "\n",
        "# Freeze all layers except the final classifier\n",
        "for param in model.parameters():\n",
        "    param.requires_grad = False\n",
        "# Unfreeze the final classifier layer\n",
        "for param in model.classifier[6].parameters():\n",
        "    param.requires_grad = True\n",
        "\n",
        "# Define loss and optimizer\n",
        "criterion = nn.CrossEntropyLoss()\n",
        "\n",
        "# Pass only the parameters of the final layer to the optimizer\n",
        "optimizer = optim.Adam(model.classifier[6].parameters(), lr=0.0001)\n",
        "\n",
        "# Training loop\n",
        "num_epochs = 20\n",
        "for epoch in range(num_epochs):\n",
        "    model.train()\n",
        "    running_loss = 0.0\n",
        "    for images, labels in train_loader:\n",
        "        images, labels = images.to(device), labels.to(device)\n",
        "        optimizer.zero_grad()  # Zero the gradients\n",
        "        outputs = model(images)  # Forward pass\n",
        "        loss = criterion(outputs, labels)  # Calculate loss\n",
        "        loss.backward()  # Backward pass\n",
        "        optimizer.step()  # Update weights\n",
        "        running_loss += loss.item()\n",
        "\n",
        "    print(f\"Epoch {epoch+1}/{num_epochs} - Loss: {running_loss/len(train_loader):.4f}\")\n",
        "\n",
        "print(\"Training complete!\")\n",
        "\n",
        "# Evaluation\n",
        "model.eval()\n",
        "all_preds, all_labels = [], []\n",
        "\n",
        "with torch.no_grad():\n",
        "    for images, labels in val_loader:\n",
        "        images, labels = images.to(device), labels.to(device)\n",
        "        outputs = model(images)\n",
        "        _, preds = torch.max(outputs, 1)\n",
        "        all_preds.extend(preds.cpu().numpy())\n",
        "        all_labels.extend(labels.cpu().numpy())\n",
        "\n",
        "accuracy = accuracy_score(all_labels, all_preds)\n",
        "print(f\"Accuracy: {accuracy * 100:.2f}%\")\n"
      ]
    },
    {
      "cell_type": "markdown",
      "metadata": {
        "id": "0GmtXYyFvup8"
      },
      "source": [
        "# a.Test Model :"
      ]
    },
    {
      "cell_type": "code",
      "execution_count": 60,
      "metadata": {
        "colab": {
          "base_uri": "https://localhost:8080/"
        },
        "id": "Kh4_g4Iq61oS",
        "outputId": "386b0111-b040-4a1d-eaef-8db83a3fbffa"
      },
      "outputs": [
        {
          "output_type": "stream",
          "name": "stdout",
          "text": [
            "Test Accuracy: 0.7753\n",
            "                  precision    recall  f1-score   support\n",
            "\n",
            "    glioma_tumor       0.83      0.74      0.78        92\n",
            "meningioma_tumor       0.72      0.68      0.70        96\n",
            "        no_tumor       0.84      0.74      0.78        42\n",
            " pituitary_tumor       0.76      0.94      0.84        86\n",
            "\n",
            "        accuracy                           0.78       316\n",
            "       macro avg       0.79      0.77      0.78       316\n",
            "    weighted avg       0.78      0.78      0.77       316\n",
            "\n"
          ]
        }
      ],
      "source": [
        "# Function to test the model\n",
        "def test_model(model, test_loader, device, class_names):\n",
        "    model.eval()  # Set the model to evaluation mode\n",
        "    correct_preds = 0\n",
        "    total_preds = 0\n",
        "    y_true = []\n",
        "    y_pred = []\n",
        "\n",
        "    with torch.no_grad():  # No need to calculate gradients during testing\n",
        "        for inputs, labels in test_loader:\n",
        "            inputs, labels = inputs.to(device), labels.to(device)\n",
        "            outputs = model(inputs)\n",
        "\n",
        "            _, preds = torch.max(outputs, 1)\n",
        "            correct_preds += torch.sum(preds == labels.data)\n",
        "            total_preds += labels.size(0)\n",
        "\n",
        "            y_true.extend(labels.cpu().numpy())\n",
        "            y_pred.extend(preds.cpu().numpy())\n",
        "\n",
        "    accuracy = correct_preds.double() / total_preds\n",
        "    print(f\"Test Accuracy: {accuracy:.4f}\")\n",
        "\n",
        "    # Print classification report\n",
        "    print(classification_report(y_true, y_pred, target_names=class_names))\n",
        "    return accuracy\n",
        "\n",
        "\n",
        "\n",
        "# Test the VGG16 model\n",
        "test_accuracy = test_model(model, test_loader, device, class_names)\n"
      ]
    },
    {
      "cell_type": "markdown",
      "metadata": {
        "id": "tZ5xW6_lv92x"
      },
      "source": [
        "# b.Test Random Image"
      ]
    },
    {
      "cell_type": "code",
      "execution_count": 62,
      "metadata": {
        "colab": {
          "base_uri": "https://localhost:8080/",
          "height": 500
        },
        "id": "N4bwGNUL64Hd",
        "outputId": "e1b16913-3839-4057-fb39-9d1b71eb2e97"
      },
      "outputs": [
        {
          "output_type": "stream",
          "name": "stderr",
          "text": [
            "WARNING:matplotlib.image:Clipping input data to the valid range for imshow with RGB data ([0..1] for floats or [0..255] for integers). Got range [-1.0..0.9372549].\n"
          ]
        },
        {
          "output_type": "display_data",
          "data": {
            "text/plain": [
              "<Figure size 640x480 with 1 Axes>"
            ],
            "image/png": "[encoded data removed]"
          },
          "metadata": {}
        },
        {
          "output_type": "stream",
          "name": "stdout",
          "text": [
            "Predicted Label: pituitary_tumor\n",
            "Actual Label: pituitary_tumor\n"
          ]
        }
      ],
      "source": [
        "import random\n",
        "import matplotlib.pyplot as plt\n",
        "import numpy as np\n",
        "from PIL import Image\n",
        "import torch\n",
        "from torchvision import transforms\n",
        "\n",
        "# Function to test a random image\n",
        "def test_random_image(model, test_loader, device, class_names):\n",
        "    model.eval()  # Set the model to evaluation mode\n",
        "\n",
        "    # Get a random sample from the test_loader\n",
        "    dataiter = iter(test_loader)\n",
        "    images, labels = next(dataiter)\n",
        "\n",
        "    # Select a random image and its corresponding label\n",
        "    idx = random.randint(0, len(images) - 1)\n",
        "    img = images[idx].unsqueeze(0).to(device)  # Add batch dimension and move to device\n",
        "    true_label = labels[idx].item()\n",
        "\n",
        "    # Make prediction\n",
        "    with torch.no_grad():  # Disable gradient calculation\n",
        "        output = model(img)\n",
        "        _, predicted = torch.max(output, 1)\n",
        "\n",
        "    predicted_label = predicted.item()\n",
        "\n",
        "    # Convert the image back to a format for display\n",
        "    img = img.squeeze().cpu().numpy().transpose(1, 2, 0)  # Convert to HWC format\n",
        "\n",
        "    # Display the image along with predicted and actual labels\n",
        "    plt.imshow(img)\n",
        "    plt.title(f\"Predicted: {class_names[predicted_label]} | Actual: {class_names[true_label]}\")\n",
        "    plt.axis('off')\n",
        "    plt.show()\n",
        "\n",
        "    # Print the actual and predicted labels\n",
        "    print(f\"Predicted Label: {class_names[predicted_label]}\")\n",
        "    print(f\"Actual Label: {class_names[true_label]}\")\n",
        "\n",
        "# Call the function to test on a random image\n",
        "test_random_image(model, test_loader, device, class_names)\n"
      ]
    },
    {
      "cell_type": "markdown",
      "metadata": {
        "id": "fMw84tPlxpp8"
      },
      "source": [
        "# **4.EfficientNet**"
      ]
    },
    {
      "cell_type": "code",
      "execution_count": 63,
      "metadata": {
        "colab": {
          "base_uri": "https://localhost:8080/",
          "height": 431,
          "referenced_widgets": [
            "bc85aae89a634a7da6ca0323aceafbfd",
            "49c73fe0462c4477a1c80f0843a9747a",
            "621cdc65d7c84832b1cd1ee636d1851e",
            "8a7e3601dc94456b801a498df7cc03df",
            "3f1b044844694a9285b40131eb9bad50",
            "3cca77c9932043f7aec2f9704fd8a6a6",
            "13fbec730dba492f84569bad2799e824",
            "081e0f3e2d184e80abb457e06d25eb06",
            "15c07fac6e764890b4ddf181f5387ca2",
            "0fae72192f3b4ffd81e3f537a9ee489c",
            "c0a5cb184c7f4370ba490a252ae2c7bd"
          ]
        },
        "id": "-bnGuu1Fxs1D",
        "outputId": "69edf942-abf1-4257-fdc9-a84185badece"
      },
      "outputs": [
        {
          "output_type": "display_data",
          "data": {
            "text/plain": [
              "model.safetensors:   0%|          | 0.00/21.4M [00:00<?, ?B/s]"
            ],
            "application/vnd.jupyter.widget-view+json": {
              "version_major": 2,
              "version_minor": 0,
              "model_id": "bc85aae89a634a7da6ca0323aceafbfd"
            }
          },
          "metadata": {}
        },
        {
          "output_type": "stream",
          "name": "stdout",
          "text": [
            "Epoch 1/20 - Loss: 1.2448\n",
            "Epoch 2/20 - Loss: 1.0600\n",
            "Epoch 3/20 - Loss: 0.9415\n",
            "Epoch 4/20 - Loss: 0.8642\n",
            "Epoch 5/20 - Loss: 0.7993\n",
            "Epoch 6/20 - Loss: 0.7386\n",
            "Epoch 7/20 - Loss: 0.6982\n",
            "Epoch 8/20 - Loss: 0.6721\n",
            "Epoch 9/20 - Loss: 0.6447\n",
            "Epoch 10/20 - Loss: 0.6271\n",
            "Epoch 11/20 - Loss: 0.5973\n",
            "Epoch 12/20 - Loss: 0.5960\n",
            "Epoch 13/20 - Loss: 0.5627\n",
            "Epoch 14/20 - Loss: 0.5672\n",
            "Epoch 15/20 - Loss: 0.5445\n",
            "Epoch 16/20 - Loss: 0.5357\n",
            "Epoch 17/20 - Loss: 0.5243\n",
            "Epoch 18/20 - Loss: 0.5100\n",
            "Epoch 19/20 - Loss: 0.5088\n",
            "Epoch 20/20 - Loss: 0.5152\n",
            "Training complete!\n",
            "Accuracy: 84.65%\n"
          ]
        }
      ],
      "source": [
        "# Load pre-trained EfficientNet-B0 model\n",
        "model = timm.create_model('efficientnet_b0', pretrained=True)\n",
        "\n",
        "# Modify the final layer to match the number of classes\n",
        "num_ftrs = model.classifier.in_features\n",
        "model.classifier = nn.Linear(num_ftrs, len(dataset.classes))\n",
        "\n",
        "# Set device to CUDA if available\n",
        "device = torch.device(\"cuda\" if torch.cuda.is_available() else \"cpu\")\n",
        "model.to(device)\n",
        "\n",
        "# Freeze all layers except the final classifier\n",
        "for param in model.parameters():\n",
        "    param.requires_grad = False\n",
        "\n",
        "# Unfreeze the final classifier layer\n",
        "for param in model.classifier.parameters():\n",
        "    param.requires_grad = True\n",
        "\n",
        "# Define loss and optimizer\n",
        "criterion = nn.CrossEntropyLoss()\n",
        "\n",
        "# Optimizer should only optimize the parameters of the final classifier\n",
        "optimizer = optim.Adam(model.classifier.parameters(), lr=0.0001)\n",
        "\n",
        "# Training loop\n",
        "num_epochs = 20\n",
        "for epoch in range(num_epochs):\n",
        "    model.train()\n",
        "    running_loss = 0.0\n",
        "    for images, labels in train_loader:\n",
        "        images, labels = images.to(device), labels.to(device)\n",
        "        optimizer.zero_grad()  # Zero the gradients\n",
        "        outputs = model(images)  # Forward pass\n",
        "        loss = criterion(outputs, labels)  # Calculate loss\n",
        "        loss.backward()  # Backward pass\n",
        "        optimizer.step()  # Update weights\n",
        "        running_loss += loss.item()\n",
        "\n",
        "    print(f\"Epoch {epoch+1}/{num_epochs} - Loss: {running_loss/len(train_loader):.4f}\")\n",
        "\n",
        "print(\"Training complete!\")\n",
        "\n",
        "# Evaluation\n",
        "model.eval()\n",
        "all_preds, all_labels = [], []\n",
        "\n",
        "with torch.no_grad():\n",
        "    for images, labels in val_loader:\n",
        "        images, labels = images.to(device), labels.to(device)\n",
        "        outputs = model(images)\n",
        "        _, preds = torch.max(outputs, 1)\n",
        "        all_preds.extend(preds.cpu().numpy())\n",
        "        all_labels.extend(labels.cpu().numpy())\n",
        "\n",
        "accuracy = accuracy_score(all_labels, all_preds)\n",
        "print(f\"Accuracy: {accuracy * 100:.2f}%\")\n"
      ]
    },
    {
      "cell_type": "markdown",
      "metadata": {
        "id": "sRjDiCUJvygc"
      },
      "source": [
        "# a.Test Model :"
      ]
    },
    {
      "cell_type": "code",
      "execution_count": 64,
      "metadata": {
        "colab": {
          "base_uri": "https://localhost:8080/"
        },
        "id": "tMUG4Gi-9a-5",
        "outputId": "6794048b-536a-48c2-f7db-c532456f0402"
      },
      "outputs": [
        {
          "output_type": "stream",
          "name": "stdout",
          "text": [
            "Test Accuracy: 0.8291\n",
            "                  precision    recall  f1-score   support\n",
            "\n",
            "    glioma_tumor       0.85      0.77      0.81        92\n",
            "meningioma_tumor       0.76      0.75      0.75        96\n",
            "        no_tumor       0.80      0.86      0.83        42\n",
            " pituitary_tumor       0.90      0.97      0.93        86\n",
            "\n",
            "        accuracy                           0.83       316\n",
            "       macro avg       0.83      0.84      0.83       316\n",
            "    weighted avg       0.83      0.83      0.83       316\n",
            "\n"
          ]
        }
      ],
      "source": [
        "# Function to test the model\n",
        "def test_model(model, test_loader, device, class_names):\n",
        "    model.eval()  # Set the model to evaluation mode\n",
        "    correct_preds = 0\n",
        "    total_preds = 0\n",
        "    y_true = []\n",
        "    y_pred = []\n",
        "\n",
        "    with torch.no_grad():  # No need to calculate gradients during testing\n",
        "        for inputs, labels in test_loader:\n",
        "            inputs, labels = inputs.to(device), labels.to(device)\n",
        "            outputs = model(inputs)\n",
        "\n",
        "            _, preds = torch.max(outputs, 1)\n",
        "            correct_preds += torch.sum(preds == labels.data)\n",
        "            total_preds += labels.size(0)\n",
        "\n",
        "            y_true.extend(labels.cpu().numpy())\n",
        "            y_pred.extend(preds.cpu().numpy())\n",
        "\n",
        "    accuracy = correct_preds.double() / total_preds\n",
        "    print(f\"Test Accuracy: {accuracy:.4f}\")\n",
        "\n",
        "    # Print classification report\n",
        "    print(classification_report(y_true, y_pred, target_names=class_names))\n",
        "    return accuracy\n",
        "\n",
        "\n",
        "\n",
        "# Test the EfficientNet-B0 model\n",
        "test_accuracy = test_model(model, test_loader, device, class_names)\n"
      ]
    },
    {
      "cell_type": "markdown",
      "metadata": {
        "id": "pcc5LK_AwA6q"
      },
      "source": [
        "# b.Test Random Image"
      ]
    },
    {
      "cell_type": "code",
      "execution_count": 66,
      "metadata": {
        "colab": {
          "base_uri": "https://localhost:8080/",
          "height": 500
        },
        "id": "9iN2f3mo9bvl",
        "outputId": "9e97cb3e-2511-4416-cd7f-32bbda2e9dd5"
      },
      "outputs": [
        {
          "output_type": "stream",
          "name": "stderr",
          "text": [
            "WARNING:matplotlib.image:Clipping input data to the valid range for imshow with RGB data ([0..1] for floats or [0..255] for integers). Got range [-1.0..0.99215686].\n"
          ]
        },
        {
          "output_type": "display_data",
          "data": {
            "text/plain": [
              "<Figure size 640x480 with 1 Axes>"
            ],
            "image/png": "[encoded data removed]"
          },
          "metadata": {}
        },
        {
          "output_type": "stream",
          "name": "stdout",
          "text": [
            "Predicted Label: no_tumor\n",
            "Actual Label: no_tumor\n"
          ]
        }
      ],
      "source": [
        "# Function to test a random image\n",
        "def test_random_image(model, test_loader, device, class_names):\n",
        "    model.eval()  # Set the model to evaluation mode\n",
        "\n",
        "    # Get a random sample from the test_loader\n",
        "    dataiter = iter(test_loader)\n",
        "    images, labels = next(dataiter)\n",
        "\n",
        "    # Select a random image and its corresponding label\n",
        "    idx = random.randint(0, len(images) - 1)\n",
        "    img = images[idx].unsqueeze(0).to(device)  # Add batch dimension and move to device\n",
        "    true_label = labels[idx].item()\n",
        "\n",
        "    # Make prediction\n",
        "    with torch.no_grad():  # Disable gradient calculation\n",
        "        output = model(img)\n",
        "        _, predicted = torch.max(output, 1)\n",
        "\n",
        "    predicted_label = predicted.item()\n",
        "\n",
        "    # Convert the image back to a format for display\n",
        "    img = img.squeeze().cpu().numpy().transpose(1, 2, 0)  # Convert to HWC format\n",
        "\n",
        "    # Display the image along with predicted and actual labels\n",
        "    plt.imshow(img)\n",
        "    plt.title(f\"Predicted: {class_names[predicted_label]} | Actual: {class_names[true_label]}\")\n",
        "    plt.axis('off')\n",
        "    plt.show()\n",
        "\n",
        "    # Print the actual and predicted labels\n",
        "    print(f\"Predicted Label: {class_names[predicted_label]}\")\n",
        "    print(f\"Actual Label: {class_names[true_label]}\")\n",
        "\n",
        "# Call the function to test on a random image\n",
        "test_random_image(model, test_loader, device, class_names)\n"
      ]
    }
  ],
  "metadata": {
    "accelerator": "GPU",
    "colab": {
      "gpuType": "T4",
      "provenance": []
    },
    "kernelspec": {
      "display_name": "Python 3",
      "name": "python3"
    },
    "language_info": {
      "name": "python"
    },
    "widgets": {
      "application/vnd.jupyter.widget-state+json": {
        "9cb057d2f30b48d2be39150b038d6f55": {
          "model_module": "@jupyter-widgets/controls",
          "model_name": "HBoxModel",
          "model_module_version": "1.5.0",
          "state": {
            "_dom_classes": [],
            "_model_module": "@jupyter-widgets/controls",
            "_model_module_version": "1.5.0",
            "_model_name": "HBoxModel",
            "_view_count": null,
            "_view_module": "@jupyter-widgets/controls",
            "_view_module_version": "1.5.0",
            "_view_name": "HBoxView",
            "box_style": "",
            "children": [
              "IPY_MODEL_54e97b2b4f3d474abd98d1b49cd6b2a2",
              "IPY_MODEL_b4320d07b99d454a8f48a27fa96e49cc",
              "IPY_MODEL_d4ddfb11549b4d03a9d4b6b7d53d196f"
            ],
            "layout": "IPY_MODEL_6ee8cc95c28b4015941fa4be93afed8b"
          }
        },
        "54e97b2b4f3d474abd98d1b49cd6b2a2": {
          "model_module": "@jupyter-widgets/controls",
          "model_name": "HTMLModel",
          "model_module_version": "1.5.0",
          "state": {
            "_dom_classes": [],
            "_model_module": "@jupyter-widgets/controls",
            "_model_module_version": "1.5.0",
            "_model_name": "HTMLModel",
            "_view_count": null,
            "_view_module": "@jupyter-widgets/controls",
            "_view_module_version": "1.5.0",
            "_view_name": "HTMLView",
            "description": "",
            "description_tooltip": null,
            "layout": "IPY_MODEL_bac1792e49514c7e999eef31e0a52c76",
            "placeholder": "​",
            "style": "IPY_MODEL_92c569d9f5344c6f92976ff9830c154c",
            "value": "model.safetensors: 100%"
          }
        },
        "b4320d07b99d454a8f48a27fa96e49cc": {
          "model_module": "@jupyter-widgets/controls",
          "model_name": "FloatProgressModel",
          "model_module_version": "1.5.0",
          "state": {
            "_dom_classes": [],
            "_model_module": "@jupyter-widgets/controls",
            "_model_module_version": "1.5.0",
            "_model_name": "FloatProgressModel",
            "_view_count": null,
            "_view_module": "@jupyter-widgets/controls",
            "_view_module_version": "1.5.0",
            "_view_name": "ProgressView",
            "bar_style": "success",
            "description": "",
            "description_tooltip": null,
            "layout": "IPY_MODEL_49e734a2521a4599bc28380af94fac96",
            "max": 114286722,
            "min": 0,
            "orientation": "horizontal",
            "style": "IPY_MODEL_39c3ccb2b5454a1fa2ba383ed96b06bc",
            "value": 114286722
          }
        },
        "d4ddfb11549b4d03a9d4b6b7d53d196f": {
          "model_module": "@jupyter-widgets/controls",
          "model_name": "HTMLModel",
          "model_module_version": "1.5.0",
          "state": {
            "_dom_classes": [],
            "_model_module": "@jupyter-widgets/controls",
            "_model_module_version": "1.5.0",
            "_model_name": "HTMLModel",
            "_view_count": null,
            "_view_module": "@jupyter-widgets/controls",
            "_view_module_version": "1.5.0",
            "_view_name": "HTMLView",
            "description": "",
            "description_tooltip": null,
            "layout": "IPY_MODEL_acde440efa7e40789d16f7f64ba08a81",
            "placeholder": "​",
            "style": "IPY_MODEL_fd8b597bfc2e4e6488312ff1e1de4c92",
            "value": " 114M/114M [00:00&lt;00:00, 219MB/s]"
          }
        },
        "6ee8cc95c28b4015941fa4be93afed8b": {
          "model_module": "@jupyter-widgets/base",
          "model_name": "LayoutModel",
          "model_module_version": "1.2.0",
          "state": {
            "_model_module": "@jupyter-widgets/base",
            "_model_module_version": "1.2.0",
            "_model_name": "LayoutModel",
            "_view_count": null,
            "_view_module": "@jupyter-widgets/base",
            "_view_module_version": "1.2.0",
            "_view_name": "LayoutView",
            "align_content": null,
            "align_items": null,
            "align_self": null,
            "border": null,
            "bottom": null,
            "display": null,
            "flex": null,
            "flex_flow": null,
            "grid_area": null,
            "grid_auto_columns": null,
            "grid_auto_flow": null,
            "grid_auto_rows": null,
            "grid_column": null,
            "grid_gap": null,
            "grid_row": null,
            "grid_template_areas": null,
            "grid_template_columns": null,
            "grid_template_rows": null,
            "height": null,
            "justify_content": null,
            "justify_items": null,
            "left": null,
            "margin": null,
            "max_height": null,
            "max_width": null,
            "min_height": null,
            "min_width": null,
            "object_fit": null,
            "object_position": null,
            "order": null,
            "overflow": null,
            "overflow_x": null,
            "overflow_y": null,
            "padding": null,
            "right": null,
            "top": null,
            "visibility": null,
            "width": null
          }
        },
        "bac1792e49514c7e999eef31e0a52c76": {
          "model_module": "@jupyter-widgets/base",
          "model_name": "LayoutModel",
          "model_module_version": "1.2.0",
          "state": {
            "_model_module": "@jupyter-widgets/base",
            "_model_module_version": "1.2.0",
            "_model_name": "LayoutModel",
            "_view_count": null,
            "_view_module": "@jupyter-widgets/base",
            "_view_module_version": "1.2.0",
            "_view_name": "LayoutView",
            "align_content": null,
            "align_items": null,
            "align_self": null,
            "border": null,
            "bottom": null,
            "display": null,
            "flex": null,
            "flex_flow": null,
            "grid_area": null,
            "grid_auto_columns": null,
            "grid_auto_flow": null,
            "grid_auto_rows": null,
            "grid_column": null,
            "grid_gap": null,
            "grid_row": null,
            "grid_template_areas": null,
            "grid_template_columns": null,
            "grid_template_rows": null,
            "height": null,
            "justify_content": null,
            "justify_items": null,
            "left": null,
            "margin": null,
            "max_height": null,
            "max_width": null,
            "min_height": null,
            "min_width": null,
            "object_fit": null,
            "object_position": null,
            "order": null,
            "overflow": null,
            "overflow_x": null,
            "overflow_y": null,
            "padding": null,
            "right": null,
            "top": null,
            "visibility": null,
            "width": null
          }
        },
        "92c569d9f5344c6f92976ff9830c154c": {
          "model_module": "@jupyter-widgets/controls",
          "model_name": "DescriptionStyleModel",
          "model_module_version": "1.5.0",
          "state": {
            "_model_module": "@jupyter-widgets/controls",
            "_model_module_version": "1.5.0",
            "_model_name": "DescriptionStyleModel",
            "_view_count": null,
            "_view_module": "@jupyter-widgets/base",
            "_view_module_version": "1.2.0",
            "_view_name": "StyleView",
            "description_width": ""
          }
        },
        "49e734a2521a4599bc28380af94fac96": {
          "model_module": "@jupyter-widgets/base",
          "model_name": "LayoutModel",
          "model_module_version": "1.2.0",
          "state": {
            "_model_module": "@jupyter-widgets/base",
            "_model_module_version": "1.2.0",
            "_model_name": "LayoutModel",
            "_view_count": null,
            "_view_module": "@jupyter-widgets/base",
            "_view_module_version": "1.2.0",
            "_view_name": "LayoutView",
            "align_content": null,
            "align_items": null,
            "align_self": null,
            "border": null,
            "bottom": null,
            "display": null,
            "flex": null,
            "flex_flow": null,
            "grid_area": null,
            "grid_auto_columns": null,
            "grid_auto_flow": null,
            "grid_auto_rows": null,
            "grid_column": null,
            "grid_gap": null,
            "grid_row": null,
            "grid_template_areas": null,
            "grid_template_columns": null,
            "grid_template_rows": null,
            "height": null,
            "justify_content": null,
            "justify_items": null,
            "left": null,
            "margin": null,
            "max_height": null,
            "max_width": null,
            "min_height": null,
            "min_width": null,
            "object_fit": null,
            "object_position": null,
            "order": null,
            "overflow": null,
            "overflow_x": null,
            "overflow_y": null,
            "padding": null,
            "right": null,
            "top": null,
            "visibility": null,
            "width": null
          }
        },
        "39c3ccb2b5454a1fa2ba383ed96b06bc": {
          "model_module": "@jupyter-widgets/controls",
          "model_name": "ProgressStyleModel",
          "model_module_version": "1.5.0",
          "state": {
            "_model_module": "@jupyter-widgets/controls",
            "_model_module_version": "1.5.0",
            "_model_name": "ProgressStyleModel",
            "_view_count": null,
            "_view_module": "@jupyter-widgets/base",
            "_view_module_version": "1.2.0",
            "_view_name": "StyleView",
            "bar_color": null,
            "description_width": ""
          }
        },
        "acde440efa7e40789d16f7f64ba08a81": {
          "model_module": "@jupyter-widgets/base",
          "model_name": "LayoutModel",
          "model_module_version": "1.2.0",
          "state": {
            "_model_module": "@jupyter-widgets/base",
            "_model_module_version": "1.2.0",
            "_model_name": "LayoutModel",
            "_view_count": null,
            "_view_module": "@jupyter-widgets/base",
            "_view_module_version": "1.2.0",
            "_view_name": "LayoutView",
            "align_content": null,
            "align_items": null,
            "align_self": null,
            "border": null,
            "bottom": null,
            "display": null,
            "flex": null,
            "flex_flow": null,
            "grid_area": null,
            "grid_auto_columns": null,
            "grid_auto_flow": null,
            "grid_auto_rows": null,
            "grid_column": null,
            "grid_gap": null,
            "grid_row": null,
            "grid_template_areas": null,
            "grid_template_columns": null,
            "grid_template_rows": null,
            "height": null,
            "justify_content": null,
            "justify_items": null,
            "left": null,
            "margin": null,
            "max_height": null,
            "max_width": null,
            "min_height": null,
            "min_width": null,
            "object_fit": null,
            "object_position": null,
            "order": null,
            "overflow": null,
            "overflow_x": null,
            "overflow_y": null,
            "padding": null,
            "right": null,
            "top": null,
            "visibility": null,
            "width": null
          }
        },
        "fd8b597bfc2e4e6488312ff1e1de4c92": {
          "model_module": "@jupyter-widgets/controls",
          "model_name": "DescriptionStyleModel",
          "model_module_version": "1.5.0",
          "state": {
            "_model_module": "@jupyter-widgets/controls",
            "_model_module_version": "1.5.0",
            "_model_name": "DescriptionStyleModel",
            "_view_count": null,
            "_view_module": "@jupyter-widgets/base",
            "_view_module_version": "1.2.0",
            "_view_name": "StyleView",
            "description_width": ""
          }
        },
        "bc85aae89a634a7da6ca0323aceafbfd": {
          "model_module": "@jupyter-widgets/controls",
          "model_name": "HBoxModel",
          "model_module_version": "1.5.0",
          "state": {
            "_dom_classes": [],
            "_model_module": "@jupyter-widgets/controls",
            "_model_module_version": "1.5.0",
            "_model_name": "HBoxModel",
            "_view_count": null,
            "_view_module": "@jupyter-widgets/controls",
            "_view_module_version": "1.5.0",
            "_view_name": "HBoxView",
            "box_style": "",
            "children": [
              "IPY_MODEL_49c73fe0462c4477a1c80f0843a9747a",
              "IPY_MODEL_621cdc65d7c84832b1cd1ee636d1851e",
              "IPY_MODEL_8a7e3601dc94456b801a498df7cc03df"
            ],
            "layout": "IPY_MODEL_3f1b044844694a9285b40131eb9bad50"
          }
        },
        "49c73fe0462c4477a1c80f0843a9747a": {
          "model_module": "@jupyter-widgets/controls",
          "model_name": "HTMLModel",
          "model_module_version": "1.5.0",
          "state": {
            "_dom_classes": [],
            "_model_module": "@jupyter-widgets/controls",
            "_model_module_version": "1.5.0",
            "_model_name": "HTMLModel",
            "_view_count": null,
            "_view_module": "@jupyter-widgets/controls",
            "_view_module_version": "1.5.0",
            "_view_name": "HTMLView",
            "description": "",
            "description_tooltip": null,
            "layout": "IPY_MODEL_3cca77c9932043f7aec2f9704fd8a6a6",
            "placeholder": "​",
            "style": "IPY_MODEL_13fbec730dba492f84569bad2799e824",
            "value": "model.safetensors: 100%"
          }
        },
        "621cdc65d7c84832b1cd1ee636d1851e": {
          "model_module": "@jupyter-widgets/controls",
          "model_name": "FloatProgressModel",
          "model_module_version": "1.5.0",
          "state": {
            "_dom_classes": [],
            "_model_module": "@jupyter-widgets/controls",
            "_model_module_version": "1.5.0",
            "_model_name": "FloatProgressModel",
            "_view_count": null,
            "_view_module": "@jupyter-widgets/controls",
            "_view_module_version": "1.5.0",
            "_view_name": "ProgressView",
            "bar_style": "success",
            "description": "",
            "description_tooltip": null,
            "layout": "IPY_MODEL_081e0f3e2d184e80abb457e06d25eb06",
            "max": 21355344,
            "min": 0,
            "orientation": "horizontal",
            "style": "IPY_MODEL_15c07fac6e764890b4ddf181f5387ca2",
            "value": 21355344
          }
        },
        "8a7e3601dc94456b801a498df7cc03df": {
          "model_module": "@jupyter-widgets/controls",
          "model_name": "HTMLModel",
          "model_module_version": "1.5.0",
          "state": {
            "_dom_classes": [],
            "_model_module": "@jupyter-widgets/controls",
            "_model_module_version": "1.5.0",
            "_model_name": "HTMLModel",
            "_view_count": null,
            "_view_module": "@jupyter-widgets/controls",
            "_view_module_version": "1.5.0",
            "_view_name": "HTMLView",
            "description": "",
            "description_tooltip": null,
            "layout": "IPY_MODEL_0fae72192f3b4ffd81e3f537a9ee489c",
            "placeholder": "​",
            "style": "IPY_MODEL_c0a5cb184c7f4370ba490a252ae2c7bd",
            "value": " 21.4M/21.4M [00:00&lt;00:00, 166MB/s]"
          }
        },
        "3f1b044844694a9285b40131eb9bad50": {
          "model_module": "@jupyter-widgets/base",
          "model_name": "LayoutModel",
          "model_module_version": "1.2.0",
          "state": {
            "_model_module": "@jupyter-widgets/base",
            "_model_module_version": "1.2.0",
            "_model_name": "LayoutModel",
            "_view_count": null,
            "_view_module": "@jupyter-widgets/base",
            "_view_module_version": "1.2.0",
            "_view_name": "LayoutView",
            "align_content": null,
            "align_items": null,
            "align_self": null,
            "border": null,
            "bottom": null,
            "display": null,
            "flex": null,
            "flex_flow": null,
            "grid_area": null,
            "grid_auto_columns": null,
            "grid_auto_flow": null,
            "grid_auto_rows": null,
            "grid_column": null,
            "grid_gap": null,
            "grid_row": null,
            "grid_template_areas": null,
            "grid_template_columns": null,
            "grid_template_rows": null,
            "height": null,
            "justify_content": null,
            "justify_items": null,
            "left": null,
            "margin": null,
            "max_height": null,
            "max_width": null,
            "min_height": null,
            "min_width": null,
            "object_fit": null,
            "object_position": null,
            "order": null,
            "overflow": null,
            "overflow_x": null,
            "overflow_y": null,
            "padding": null,
            "right": null,
            "top": null,
            "visibility": null,
            "width": null
          }
        },
        "3cca77c9932043f7aec2f9704fd8a6a6": {
          "model_module": "@jupyter-widgets/base",
          "model_name": "LayoutModel",
          "model_module_version": "1.2.0",
          "state": {
            "_model_module": "@jupyter-widgets/base",
            "_model_module_version": "1.2.0",
            "_model_name": "LayoutModel",
            "_view_count": null,
            "_view_module": "@jupyter-widgets/base",
            "_view_module_version": "1.2.0",
            "_view_name": "LayoutView",
            "align_content": null,
            "align_items": null,
            "align_self": null,
            "border": null,
            "bottom": null,
            "display": null,
            "flex": null,
            "flex_flow": null,
            "grid_area": null,
            "grid_auto_columns": null,
            "grid_auto_flow": null,
            "grid_auto_rows": null,
            "grid_column": null,
            "grid_gap": null,
            "grid_row": null,
            "grid_template_areas": null,
            "grid_template_columns": null,
            "grid_template_rows": null,
            "height": null,
            "justify_content": null,
            "justify_items": null,
            "left": null,
            "margin": null,
            "max_height": null,
            "max_width": null,
            "min_height": null,
            "min_width": null,
            "object_fit": null,
            "object_position": null,
            "order": null,
            "overflow": null,
            "overflow_x": null,
            "overflow_y": null,
            "padding": null,
            "right": null,
            "top": null,
            "visibility": null,
            "width": null
          }
        },
        "13fbec730dba492f84569bad2799e824": {
          "model_module": "@jupyter-widgets/controls",
          "model_name": "DescriptionStyleModel",
          "model_module_version": "1.5.0",
          "state": {
            "_model_module": "@jupyter-widgets/controls",
            "_model_module_version": "1.5.0",
            "_model_name": "DescriptionStyleModel",
            "_view_count": null,
            "_view_module": "@jupyter-widgets/base",
            "_view_module_version": "1.2.0",
            "_view_name": "StyleView",
            "description_width": ""
          }
        },
        "081e0f3e2d184e80abb457e06d25eb06": {
          "model_module": "@jupyter-widgets/base",
          "model_name": "LayoutModel",
          "model_module_version": "1.2.0",
          "state": {
            "_model_module": "@jupyter-widgets/base",
            "_model_module_version": "1.2.0",
            "_model_name": "LayoutModel",
            "_view_count": null,
            "_view_module": "@jupyter-widgets/base",
            "_view_module_version": "1.2.0",
            "_view_name": "LayoutView",
            "align_content": null,
            "align_items": null,
            "align_self": null,
            "border": null,
            "bottom": null,
            "display": null,
            "flex": null,
            "flex_flow": null,
            "grid_area": null,
            "grid_auto_columns": null,
            "grid_auto_flow": null,
            "grid_auto_rows": null,
            "grid_column": null,
            "grid_gap": null,
            "grid_row": null,
            "grid_template_areas": null,
            "grid_template_columns": null,
            "grid_template_rows": null,
            "height": null,
            "justify_content": null,
            "justify_items": null,
            "left": null,
            "margin": null,
            "max_height": null,
            "max_width": null,
            "min_height": null,
            "min_width": null,
            "object_fit": null,
            "object_position": null,
            "order": null,
            "overflow": null,
            "overflow_x": null,
            "overflow_y": null,
            "padding": null,
            "right": null,
            "top": null,
            "visibility": null,
            "width": null
          }
        },
        "15c07fac6e764890b4ddf181f5387ca2": {
          "model_module": "@jupyter-widgets/controls",
          "model_name": "ProgressStyleModel",
          "model_module_version": "1.5.0",
          "state": {
            "_model_module": "@jupyter-widgets/controls",
            "_model_module_version": "1.5.0",
            "_model_name": "ProgressStyleModel",
            "_view_count": null,
            "_view_module": "@jupyter-widgets/base",
            "_view_module_version": "1.2.0",
            "_view_name": "StyleView",
            "bar_color": null,
            "description_width": ""
          }
        },
        "0fae72192f3b4ffd81e3f537a9ee489c": {
          "model_module": "@jupyter-widgets/base",
          "model_name": "LayoutModel",
          "model_module_version": "1.2.0",
          "state": {
            "_model_module": "@jupyter-widgets/base",
            "_model_module_version": "1.2.0",
            "_model_name": "LayoutModel",
            "_view_count": null,
            "_view_module": "@jupyter-widgets/base",
            "_view_module_version": "1.2.0",
            "_view_name": "LayoutView",
            "align_content": null,
            "align_items": null,
            "align_self": null,
            "border": null,
            "bottom": null,
            "display": null,
            "flex": null,
            "flex_flow": null,
            "grid_area": null,
            "grid_auto_columns": null,
            "grid_auto_flow": null,
            "grid_auto_rows": null,
            "grid_column": null,
            "grid_gap": null,
            "grid_row": null,
            "grid_template_areas": null,
            "grid_template_columns": null,
            "grid_template_rows": null,
            "height": null,
            "justify_content": null,
            "justify_items": null,
            "left": null,
            "margin": null,
            "max_height": null,
            "max_width": null,
            "min_height": null,
            "min_width": null,
            "object_fit": null,
            "object_position": null,
            "order": null,
            "overflow": null,
            "overflow_x": null,
            "overflow_y": null,
            "padding": null,
            "right": null,
            "top": null,
            "visibility": null,
            "width": null
          }
        },
        "c0a5cb184c7f4370ba490a252ae2c7bd": {
          "model_module": "@jupyter-widgets/controls",
          "model_name": "DescriptionStyleModel",
          "model_module_version": "1.5.0",
          "state": {
            "_model_module": "@jupyter-widgets/controls",
            "_model_module_version": "1.5.0",
            "_model_name": "DescriptionStyleModel",
            "_view_count": null,
            "_view_module": "@jupyter-widgets/base",
            "_view_module_version": "1.2.0",
            "_view_name": "StyleView",
            "description_width": ""
          }
        }
      }
    }
  },
  "nbformat": 4,
  "nbformat_minor": 0
}
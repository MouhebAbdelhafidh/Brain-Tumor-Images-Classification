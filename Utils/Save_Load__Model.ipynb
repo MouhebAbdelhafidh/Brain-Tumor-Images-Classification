{
  "nbformat": 4,
  "nbformat_minor": 0,
  "metadata": {
    "colab": {
      "provenance": []
    },
    "kernelspec": {
      "name": "python3",
      "display_name": "Python 3"
    },
    "language_info": {
      "name": "python"
    }
  },
  "cells": [
  {
      "cell_type": "code",
      "execution_count": 1,
      "metadata": {
        "id": "5AyeT4pEb4Od"
      },
      "outputs": [],
      "source": [
        "import torch"
      ]
    },
    {
      "cell_type": "code",
      "execution_count": 2,
      "metadata": {
        "id": "5AyeT4pEb4Od"
      },
      "outputs": [],
      "source": [
        "def save_checkpoint(checkpoint, checkpoint_path):\n",
        "    torch.save(checkpoint, checkpoint_path)\n",
        "    print(f\"Checkpoint saved to {checkpoint_path}\")"
      ]
    },
    {
      "cell_type": "code",
      "source": [
        "def load_checkpoint(checkpoint_path):\n",
        "    checkpoint = torch.load(checkpoint_path)\n",
        "    model.load_state_dict(checkpoint['model_state_dict'])\n",
        "    optimizer.load_state_dict(checkpoint['optimizer_state_dict'])\n",
        "    epoch = checkpoint['epoch']\n",
        "    loss = checkpoint['loss']\n",
        "    print(f\"Checkpoint loaded from {checkpoint_path}\")\n",
        "    print(f\"Resumed from epoch {epoch}, loss: {loss}\")\n",
        "    return model, optimizer, epoch"
      ],
      "metadata": {
        "id": "K03ggC7Cexwh"
      },
      "execution_count": 2,
      "outputs": []
    }
  ]
}
